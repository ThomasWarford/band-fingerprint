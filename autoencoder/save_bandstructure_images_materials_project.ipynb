{
 "cells": [
  {
   "cell_type": "code",
   "execution_count": 1,
   "id": "ee7b27ff-1a8f-4fbe-bae8-e4a34f18a70d",
   "metadata": {},
   "outputs": [],
   "source": [
    "import pandas as pd\n",
    "import matplotlib.pyplot as plt\n",
    "import numpy as np\n",
    "from skimage import io\n",
    "from skimage.transform import resize\n",
    "from skimage.color import rgb2gray\n",
    "import json\n",
    "from pickle import load\n",
    "from tqdm import tqdm\n",
    "\n",
    "from fastai.vision.all import Path, Image\n",
    "\n",
    "import numpy as np"
   ]
  },
  {
   "cell_type": "code",
   "execution_count": 2,
   "id": "681dd136-1246-44c5-b576-6877f429043a",
   "metadata": {},
   "outputs": [],
   "source": [
    "IMAGE_DIRECTORY = Path(\"/home/tw/Desktop/materials_project_images\")\n",
    "OUTPUT_DIMENSIONS = (64, 64)\n",
    "DATA_DIRECTORY = Path(\"/media/tw/Elements/MatProj/electronic_str/\")\n",
    "LINEWIDTH = 3"
   ]
  },
  {
   "cell_type": "markdown",
   "id": "2f620e3b-5b0e-4a5a-a564-9eddd9db5598",
   "metadata": {
    "tags": []
   },
   "source": [
    "## High DPI"
   ]
  },
  {
   "cell_type": "code",
   "execution_count": 3,
   "id": "5503b4ab-2de8-44a6-8882-9930c8cb59da",
   "metadata": {},
   "outputs": [],
   "source": [
    "paths = [path for path in DATA_DIRECTORY.ls() if path.is_file() and path.name.startswith('BS_MP_')]"
   ]
  },
  {
   "cell_type": "code",
   "execution_count": null,
   "id": "548e7da6-f68e-4fa4-be34-a313c3ba970e",
   "metadata": {},
   "outputs": [
    {
     "name": "stderr",
     "output_type": "stream",
     "text": [
      "  0%|                                                   | 0/570 [00:00<?, ?it/s]/tmp/ipykernel_5369/2990079757.py:23: MatplotlibDeprecationWarning: The tostring_rgb function was deprecated in Matplotlib 3.8 and will be removed two minor releases later. Use buffer_rgba instead.\n",
      "  data = np.frombuffer(fig.canvas.tostring_rgb(), dtype=np.uint8)\n",
      "  5%|█▊                                      | 26/570 [29:30<3:19:02, 21.95s/it]"
     ]
    }
   ],
   "source": [
    "for path in tqdm(paths):\n",
    "    if path.is_file() and path.name.startswith('BS_MP_'):\n",
    "        with open(path, 'rb') as pickle_file:\n",
    "            bs_list, material_ids = load(pickle_file) \n",
    "        for bs, material_id in zip(bs_list, material_ids):\n",
    "            output_path = IMAGE_DIRECTORY/f\"{material_id}.png\"\n",
    "            energies_minus_efermi = bs.bands.popitem()[1] - bs.efermi\n",
    "            \n",
    "            fig, ax = plt.subplots(figsize=(8, 8))\n",
    "            ax.set_ylim([-4, +4])\n",
    "            ax.set_xlim([0, energies_minus_efermi.shape[1]-1])\n",
    "        \n",
    "        \n",
    "            for band in energies_minus_efermi:\n",
    "                ax.plot(band, c=\"black\", linewidth=LINEWIDTH)\n",
    "        \n",
    "            # If we haven't already shown or saved the plot, then we need to\n",
    "            # draw the figure first...\n",
    "            ax.axis(\"off\")\n",
    "            fig.canvas.draw()\n",
    "        \n",
    "            # Now we can save it to a numpy array.\n",
    "            data = np.frombuffer(fig.canvas.tostring_rgb(), dtype=np.uint8)\n",
    "            data = data.reshape(fig.canvas.get_width_height()[::-1] + (3,))\n",
    "        \n",
    "            # now crop out axis:\n",
    "            data = data[70:-72, 72:-58]\n",
    "            image = Image.fromarray(data)\n",
    "            image.save(output_path)\n",
    "            \n",
    "            plt.close()\n",
    "            plt.clf()\n",
    "        del bs_list, material_ids  "
   ]
  },
  {
   "cell_type": "code",
   "execution_count": null,
   "id": "b5f92c41-281b-45e0-bcb8-9ae00620b4db",
   "metadata": {},
   "outputs": [],
   "source": []
  }
 ],
 "metadata": {
  "kernelspec": {
   "display_name": "Python 3 (ipykernel)",
   "language": "python",
   "name": "python3"
  },
  "language_info": {
   "codemirror_mode": {
    "name": "ipython",
    "version": 3
   },
   "file_extension": ".py",
   "mimetype": "text/x-python",
   "name": "python",
   "nbconvert_exporter": "python",
   "pygments_lexer": "ipython3",
   "version": "3.11.8"
  }
 },
 "nbformat": 4,
 "nbformat_minor": 5
}
