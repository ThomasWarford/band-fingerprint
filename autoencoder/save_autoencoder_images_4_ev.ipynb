{
 "cells": [
  {
   "cell_type": "code",
   "execution_count": 1,
   "id": "83d8670f-8576-4813-99cc-63ec28572db6",
   "metadata": {},
   "outputs": [],
   "source": [
    "import numpy as np\n",
    "import pandas as pd\n",
    "import json\n",
    "import matplotlib.pyplot as plt\n",
    "from ipywidgets import interact\n",
    "from skimage.transform import resize\n",
    "from fastai import *\n",
    "from fastai.vision.all import *\n",
    "\n",
    "import sys\n",
    "# import band plotter\n",
    "sys.path.append('..')\n",
    "from src.band_plotters import plot, DATA_DIRECTORY, plot_from_bands_picture, plot_from_bands_tensor\n",
    "from src.Tiff32Image import TiffImage, TiffImageNoised"
   ]
  },
  {
   "cell_type": "markdown",
   "id": "aa90d819-2079-467b-a780-691077130961",
   "metadata": {
    "tags": []
   },
   "source": [
    "## Constants and Selected Values"
   ]
  },
  {
   "cell_type": "code",
   "execution_count": 3,
   "id": "e7b76ff8-37a0-407b-8a6e-8c3b2462e770",
   "metadata": {},
   "outputs": [],
   "source": [
    "THRESHOLD = 4 # eV\n",
    "RERUN = False\n",
    "\n",
    "MAX_BANDS_NEAR_EFERMI =  189\n",
    "MAX_BANDS =  260\n",
    "MAX_WIDTH =  126\n",
    "\n",
    "# determined from cell below - these are good maximums to ~2000th material - if exceeded values will be set to max\n",
    "MAX_ENERGY_MINUS_EFERMI_NEAR_EFERMI =  7\n",
    "MIN_ENERGY_MINUS_EFERMI_NEAR_EFERMI =  -7\n",
    "\n",
    "# Used for images\n",
    "SELECTED_WIDTH = 128\n",
    "SELECTED_HEIGHT = 128 # max height of 130 up to 2400th material - we can crop if height > max_height"
   ]
  },
  {
   "cell_type": "markdown",
   "id": "3c60f616-9455-4411-9fe5-efd7e6a66e61",
   "metadata": {
    "tags": []
   },
   "source": [
    "### Determining Constants for Image Processing"
   ]
  },
  {
   "cell_type": "code",
   "execution_count": 4,
   "id": "957a890c-8b1d-4e1c-be27-bf81d12b7ab2",
   "metadata": {},
   "outputs": [],
   "source": [
    "if RERUN:\n",
    "    df_template = pd.read_csv(\"../fingerprints/template.csv\", index_col=\"ID\")\n",
    "    MAX_BANDS = 0\n",
    "    MAX_WIDTH = 0\n",
    "    MAX_BANDS_NEAR_EFERMI = 0\n",
    "    MAX_ENERGY_MINUS_EFERMI = 0\n",
    "    MIN_ENERGY_MINUS_EFERMI = 0\n",
    "    MAX_ENERGY_MINUS_EFERMI_NEAR_EFERMI = 0\n",
    "    MIN_ENERGY_MINUS_EFERMI_NEAR_EFERMI = 0\n",
    "    \n",
    "    \n",
    "    for i, material_id in enumerate(df_template.index):\n",
    "        file_name = DATA_DIRECTORY/f\"bands/{material_id}.json\"\n",
    "        bands_dict=json.load(open(file_name))\n",
    "        energy_minus_efermi = np.array(bands_dict[\"bands\"][\"1\"]) - bands_dict[\"efermi\"]\n",
    "        \n",
    "        # determine max height of images\n",
    "        distance_from_efermi = np.abs(energy_minus_efermi)\n",
    "        # mask = (distance_from_efermi < THRESHOLD).any(axis=1)\n",
    "        mask = distance_from_efermi.mean(axis=1)<THRESHOLD\n",
    "        if MAX_BANDS_NEAR_EFERMI < mask.sum():\n",
    "            MAX_BANDS_NEAR_EFERMI = mask.sum()\n",
    "            print(f\"{material_id}: new max height with threshold ({THRESHOLD}): {MAX_BANDS_NEAR_EFERMI}\")\n",
    "        \n",
    "        if MAX_BANDS < energy_minus_efermi.shape[0]:\n",
    "            MAX_BANDS = energy_minus_efermi.shape[0]\n",
    "            print(f\"{material_id}: new max height without theshold: {MAX_BANDS}\")\n",
    "            \n",
    "        if MAX_WIDTH < energy_minus_efermi.shape[1]:\n",
    "            MAX_WIDTH = energy_minus_efermi.shape[1]\n",
    "            print(f\"{material_id}: new max width: {MAX_WIDTH}\")\n",
    "            \n",
    "        if MAX_ENERGY_MINUS_EFERMI_NEAR_EFERMI < energy_minus_efermi[mask].max():\n",
    "            MAX_ENERGY_MINUS_EFERMI_NEAR_EFERMI = energy_minus_efermi[mask].max()\n",
    "            print(f\"{material_id}: new max energy with threshold ({THRESHOLD}): {MAX_ENERGY_MINUS_EFERMI_NEAR_EFERMI}\")\n",
    "            \n",
    "        if MIN_ENERGY_MINUS_EFERMI_NEAR_EFERMI > energy_minus_efermi[mask].min():\n",
    "            MIN_ENERGY_MINUS_EFERMI_NEAR_EFERMI = energy_minus_efermi[mask].min()\n",
    "            print(f\"{material_id}: new min energy with threshold ({THRESHOLD}): {MIN_ENERGY_MINUS_EFERMI_NEAR_EFERMI}\")\n",
    "            \n",
    "        if MAX_ENERGY_MINUS_EFERMI < energy_minus_efermi.max():\n",
    "            MAX_ENERGY_MINUS_EFERMI = energy_minus_efermi.max()\n",
    "            print(f\"{material_id}: new max energy without threshold: {MAX_ENERGY_MINUS_EFERMI}\")\n",
    "            \n",
    "        if MIN_ENERGY_MINUS_EFERMI > energy_minus_efermi.min():\n",
    "            MIN_ENERGY_MINUS_EFERMI = energy_minus_efermi.min()\n",
    "            print(f\"{material_id}: new min energy without threshold: {MIN_ENERGY_MINUS_EFERMI}\")\n",
    "            \n",
    "        if i % 200 == 0:\n",
    "            print(i, \"/\", len(df_template))\n",
    "            \n",
    "        \n",
    "    print(\"MAX_BANDS_NEAR_EFERMI = \", MAX_BANDS_NEAR_EFERMI)\n",
    "    print(\"MAX_BANDS = \", MAX_BANDS)\n",
    "    print(\"MAX_WIDTH = \", MAX_WIDTH)\n",
    "    print(\"MAX_ENERGY_MINUS_EFERMI_NEAR_EFERMI = \", MAX_ENERGY_MINUS_EFERMI_NEAR_EFERMI)\n",
    "    print(\"MIN_ENERGY_MINUS_EFERMI_NEAR_EFERMI = \", MIN_ENERGY_MINUS_EFERMI_NEAR_EFERMI)\n",
    "    print(\"MAX_ENERGY_MINUS_EFERMI = \", MAX_ENERGY_MINUS_EFERMI)\n",
    "    print(\"MIN_ENERGY_MINUS_EFERMI = \", MIN_ENERGY_MINUS_EFERMI)"
   ]
  },
  {
   "cell_type": "markdown",
   "id": "0989234c-5d61-4c6c-be70-aa48a0ea539c",
   "metadata": {
    "tags": []
   },
   "source": [
    "## Visualizing Energy Values"
   ]
  },
  {
   "cell_type": "code",
   "execution_count": 5,
   "id": "293b6b2f-61d3-4f97-a8c5-f33b93e909d1",
   "metadata": {},
   "outputs": [],
   "source": [
    "def get_bands_that_come_near_fermi_level(bands_dict, threshold=THRESHOLD):\n",
    "    '''\n",
    "    band_dict[\"bands\"][\"1\"] - band energy eigenvalues\n",
    "    band_dict[\"efermi\"] - fermi energy\n",
    "    threshold - distance that bands must approach (at any point!) to be included\n",
    "    '''\n",
    "    energy_minus_efermi = np.array(bands_dict[\"bands\"][\"1\"]) - bands_dict[\"efermi\"]\n",
    "    distance_from_efermi = np.abs(energy_minus_efermi)\n",
    "    mask = (distance_from_efermi < 8).any(axis=1)\n",
    "    return energy_minus_efermi[mask]"
   ]
  },
  {
   "cell_type": "code",
   "execution_count": 6,
   "id": "cccf8636-cd20-44ea-b675-ed8999572a16",
   "metadata": {},
   "outputs": [],
   "source": [
    "def get_bands_that_average_near_fermi_level(bands_dict, threshold=THRESHOLD):\n",
    "    '''\n",
    "    band_dict[\"bands\"][\"1\"] - band energy eigenvalues\n",
    "    band_dict[\"efermi\"] - fermi energy\n",
    "    threshold - distance that bands must approach (at any point!) to be included\n",
    "    '''\n",
    "    energy_minus_efermi = np.array(bands_dict[\"bands\"][\"1\"]) - bands_dict[\"efermi\"]\n",
    "    distance_from_efermi = np.abs(energy_minus_efermi)\n",
    "    mask = distance_from_efermi.mean(axis=1) < threshold\n",
    "    return energy_minus_efermi[mask]"
   ]
  },
  {
   "cell_type": "code",
   "execution_count": 7,
   "id": "447089bb-93ff-462a-ad1a-aa52422b762c",
   "metadata": {},
   "outputs": [
    {
     "data": {
      "application/vnd.jupyter.widget-view+json": {
       "model_id": "7892e90fe0c84567a32c87e824725e5f",
       "version_major": 2,
       "version_minor": 0
      },
      "text/plain": [
       "interactive(children=(IntSlider(value=256, description='x', max=768, min=-256), Output()), _dom_classes=('widg…"
      ]
     },
     "metadata": {},
     "output_type": "display_data"
    },
    {
     "data": {
      "text/plain": [
       "<function __main__.show(x)>"
      ]
     },
     "execution_count": 7,
     "metadata": {},
     "output_type": "execute_result"
    }
   ],
   "source": [
    "def show(x):\n",
    "\n",
    "    example = DATA_DIRECTORY/f\"bands/2dm-{x}.json\"\n",
    "    bands_dict=json.load(open(example))\n",
    "    bands_minus_efermi = np.array(bands_dict[\"bands\"][\"1\"]) - bands_dict[\"efermi\"]\n",
    "    plt.imshow(bands_minus_efermi)\n",
    "    plt.show()\n",
    "    bands_minus_efermi_in_threshold = get_bands_that_average_near_fermi_level(bands_dict)\n",
    "    plt.imshow(bands_minus_efermi_in_threshold)\n",
    "\n",
    "interact(show, x=256)"
   ]
  },
  {
   "cell_type": "markdown",
   "id": "0051a0ec-b021-4705-8241-03881195ab03",
   "metadata": {
    "tags": []
   },
   "source": [
    "## Messing With Resizing\n",
    "All Images must be the same size. Resizing should not mess up the band structure plots for our band reconstruction to be physically equivalent!"
   ]
  },
  {
   "cell_type": "code",
   "execution_count": 8,
   "id": "6293a30a-0224-4485-a5fd-b6d62f0d3129",
   "metadata": {},
   "outputs": [],
   "source": [
    "example_material_id = \"2dm-492\"\n",
    "example = DATA_DIRECTORY/f\"bands/{example_material_id}.json\"\n",
    "bands_dict=json.load(open(example))\n",
    "energy_minus_efermi_in_threshold = get_bands_that_average_near_fermi_level(bands_dict)\n",
    "\n",
    "resized =resize(energy_minus_efermi_in_threshold, (SELECTED_HEIGHT, SELECTED_WIDTH), preserve_range=True, mode=\"edge\", order=0)"
   ]
  },
  {
   "cell_type": "code",
   "execution_count": null,
   "id": "8a7d3727-ceb7-4c3e-82b6-edac26aff257",
   "metadata": {},
   "outputs": [],
   "source": [
    "plot(example_material_id, bs_projection=None, dos=False, e_bounds=[-8, +8])"
   ]
  },
  {
   "cell_type": "code",
   "execution_count": null,
   "id": "b3d380e2-6185-4fdc-b0e3-33f408f44cc4",
   "metadata": {},
   "outputs": [],
   "source": [
    "plot_from_bands_picture(example_material_id, resized, e_bounds=[-8, +8])"
   ]
  },
  {
   "cell_type": "markdown",
   "id": "1ac3a517-d7a0-4e5e-a0c3-7d5003d6489f",
   "metadata": {},
   "source": [
    "Resizing seems to be fine - now we need to save the images as PNGs and check they can be loaded properly."
   ]
  },
  {
   "cell_type": "markdown",
   "id": "92129d93-acdc-4e6d-9818-309e84090383",
   "metadata": {},
   "source": [
    "## Saving All Images"
   ]
  },
  {
   "cell_type": "code",
   "execution_count": null,
   "id": "b1d070d6-3788-4296-ab9d-501808191fef",
   "metadata": {},
   "outputs": [],
   "source": [
    "def pad_or_crop_to_height(image, desired_height):\n",
    "    # Get the current size of the image\n",
    "    current_height = image.shape[0]\n",
    "    \n",
    "    if current_height < desired_height:\n",
    "\n",
    "        # Calculate the pad width for each axis\n",
    "        pad_width = [((desired_height-current_height) // 2, (desired_height-current_height + 1) // 2),\n",
    "                     (0, 0)]\n",
    "                     \n",
    "\n",
    "        # Pad the image with zeros using np.pad\n",
    "        padded_image = np.pad(image, pad_width, mode='constant', constant_values=0)\n",
    "\n",
    "    # Crop the padded image to the desired size\n",
    "    cropped_image = padded_image[:desired_height]\n",
    "\n",
    "    return cropped_image"
   ]
  },
  {
   "cell_type": "code",
   "execution_count": null,
   "id": "b24eb38d-b2d2-4515-b116-ccb7fd158f33",
   "metadata": {},
   "outputs": [],
   "source": [
    "from skimage import io\n",
    "\n",
    "df_template = pd.read_csv(\"../fingerprints/template.csv\", index_col=\"ID\")\n",
    "latest_material_that_already_exists = None\n",
    "padded_array = []\n",
    "squished_array = []\n",
    "pad_and_squish_array = []\n",
    "output_name = f\"energies{THRESHOLD}\"\n",
    "\n",
    "\n",
    "for i, material_id in enumerate(df_template.index):\n",
    "    input_file_path = DATA_DIRECTORY/f\"bands/{material_id}.json\"\n",
    "    output_file_path = DATA_DIRECTORY/f\"images\"/output_name/f\"{material_id}.tiff\"\n",
    "    \n",
    "    if output_file_path.exists():\n",
    "        latest_material_that_already_exists = material_id\n",
    "        continue;\n",
    "    elif latest_material_that_already_exists:\n",
    "        print(f\"All images up to {latest_material_that_already_exists}.tiff already exist.\")\n",
    "        latest_material_that_already_exists = None\n",
    "        \n",
    "        \n",
    "        \n",
    "    \n",
    "    bands_dict=json.load(open(input_file_path))\n",
    "    energy_minus_efermi_in_threshold = get_bands_that_average_near_fermi_level(bands_dict)\n",
    "    energy_minus_efermi_in_threshold[energy_minus_efermi_in_threshold<MIN_ENERGY_MINUS_EFERMI_NEAR_EFERMI]=MIN_ENERGY_MINUS_EFERMI_NEAR_EFERMI\n",
    "    energy_minus_efermi_in_threshold[energy_minus_efermi_in_threshold>MAX_ENERGY_MINUS_EFERMI_NEAR_EFERMI]=MAX_ENERGY_MINUS_EFERMI_NEAR_EFERMI\n",
    "    output_float = (2**16-1) * (energy_minus_efermi_in_threshold - MIN_ENERGY_MINUS_EFERMI_NEAR_EFERMI) / (MAX_ENERGY_MINUS_EFERMI_NEAR_EFERMI - MIN_ENERGY_MINUS_EFERMI_NEAR_EFERMI)\n",
    "    output_float = resize(output_float, (output_float.shape[0], SELECTED_WIDTH), preserve_range=True, mode=\"edge\")\n",
    "    output_int = output_float.astype(np.uint16)\n",
    "    io.imsave(output_file_path, output_int)\n",
    "    \n",
    "#     output_pad = pad_or_crop_to_height(output_float, SELECTED_HEIGHT)\n",
    "#     output_squish = resize(output_float, (SELECTED_HEIGHT, SELECTED_WIDTH), preserve_range=True, mode=\"edge\")\n",
    "    \n",
    "#     padded_array.append(output_pad)\n",
    "#     squished_array.append(output_squish)\n",
    "    \n",
    "    \n",
    "    if i % 200 == 199:\n",
    "        print(i, \"/\", len(df_template))\n",
    "        \n",
    "padded_array = np.array(padded_array)\n",
    "squished_array.append(output_squish)\n",
    "\n",
    "# np.savez(DATA_DIRECTORY/\"npz\"/output_name/\"padded.npz\", padded_array)\n",
    "# np.savez(DATA_DIRECTORY/\"npz\"/output_name/\"squished.npz\", squished_array)"
   ]
  },
  {
   "cell_type": "code",
   "execution_count": null,
   "id": "5f5d8f4f-8092-4f2c-b057-53a6776be9bb",
   "metadata": {},
   "outputs": [],
   "source": [
    "dls = DataBlock(\n",
    "    blocks=(ImageBlock(cls=TiffImage), ImageBlock(cls=TiffImageNoised)), \n",
    "    get_items=get_image_files,\n",
    "    splitter=RandomSplitter(valid_pct=0.1),\n",
    "    item_tfms=[CropPad((SELECTED_HEIGHT, SELECTED_WIDTH))],# AddNoiseTransform(std=1)], #RandomErasingTransform()], #AddNoiseTransform(std=1)],\n",
    "    batch_tfms=[IntToFloatTensor(div=2**16-1)],\n",
    "        ).dataloaders(DATA_DIRECTORY/f\"images/energies{THRESHOLD}\", bs=64)\n",
    "\n",
    "dls.show_batch()\n"
   ]
  },
  {
   "cell_type": "code",
   "execution_count": null,
   "id": "417c970f-8cc1-4efb-9e60-a9b349c4cec4",
   "metadata": {},
   "outputs": [],
   "source": [
    "load = np.load(DATA_DIRECTORY/\"npz\"/output_name/\"padded.npz\")[0]\n",
    "load.imshow()"
   ]
  },
  {
   "cell_type": "code",
   "execution_count": null,
   "id": "c62c90c3-1a8c-4563-9bf0-fbd6a7cf2000",
   "metadata": {},
   "outputs": [],
   "source": [
    "load = np.load(DATA_DIRECTORY/\"npz\"/output_name/\"squished.npz\")[0]\n",
    "load.imshow()"
   ]
  },
  {
   "cell_type": "code",
   "execution_count": null,
   "id": "9d85c968-ceb9-43fd-a832-87703b59bbef",
   "metadata": {},
   "outputs": [],
   "source": []
  }
 ],
 "metadata": {
  "kernelspec": {
   "display_name": "Python 3 (ipykernel)",
   "language": "python",
   "name": "python3"
  },
  "language_info": {
   "codemirror_mode": {
    "name": "ipython",
    "version": 3
   },
   "file_extension": ".py",
   "mimetype": "text/x-python",
   "name": "python",
   "nbconvert_exporter": "python",
   "pygments_lexer": "ipython3",
   "version": "3.9.13"
  }
 },
 "nbformat": 4,
 "nbformat_minor": 5
}
