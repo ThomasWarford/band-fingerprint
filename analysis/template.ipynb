{
 "cells": [
  {
   "cell_type": "code",
   "execution_count": 1,
   "id": "0be7ce91-2cc8-4c8a-9029-a0149f72a6a3",
   "metadata": {},
   "outputs": [],
   "source": [
    "import hdbscan\n",
    "import pandas as pd\n",
    "import numpy as np\n",
    "import matplotlib.pyplot as plt\n",
    "from sklearn import manifold\n",
    "\n",
    "import sys\n",
    "sys.path.append('..')\n",
    "from src.band_plotters import DATA_DIRECTORY\n",
    "from src.cluster_plotters import plot_cluster_ellipses"
   ]
  },
  {
   "cell_type": "code",
   "execution_count": 2,
   "id": "df2d40a7-3d45-4ddc-9f83-f177bfd538ed",
   "metadata": {},
   "outputs": [],
   "source": [
    "FINGERPRINT_NAME = \"all_k_branches_histogram\"\n",
    "FINGERPRINT_LENGTH = 120\n",
    "PERPLEXITY = 30\n",
    "INPUT_NAME = f\"{FINGERPRINT_NAME}_perplexity_{PERPLEXITY}_length_{FINGERPRINT_LENGTH}.csv\""
   ]
  },
  {
   "cell_type": "markdown",
   "id": "81594502-7893-4d49-8df3-d88932fd59c9",
   "metadata": {},
   "source": [
    "## Load Data"
   ]
  },
  {
   "cell_type": "code",
   "execution_count": 3,
   "id": "55431b8d-b4ed-4ac3-b6ca-cbd762fa8d74",
   "metadata": {},
   "outputs": [
    {
     "data": {
      "text/html": [
       "<div>\n",
       "<style scoped>\n",
       "    .dataframe tbody tr th:only-of-type {\n",
       "        vertical-align: middle;\n",
       "    }\n",
       "\n",
       "    .dataframe tbody tr th {\n",
       "        vertical-align: top;\n",
       "    }\n",
       "\n",
       "    .dataframe thead th {\n",
       "        text-align: right;\n",
       "    }\n",
       "</style>\n",
       "<table border=\"1\" class=\"dataframe\">\n",
       "  <thead>\n",
       "    <tr style=\"text-align: right;\">\n",
       "      <th></th>\n",
       "      <th>formula</th>\n",
       "      <th>gen_formula</th>\n",
       "      <th>space_group</th>\n",
       "      <th>segments</th>\n",
       "      <th>flat_segments</th>\n",
       "      <th>flatness_score</th>\n",
       "      <th>discovery</th>\n",
       "      <th>binary_flatness</th>\n",
       "      <th>horz_flat_seg</th>\n",
       "      <th>exfoliation_eg</th>\n",
       "      <th>...</th>\n",
       "      <th>112</th>\n",
       "      <th>113</th>\n",
       "      <th>114</th>\n",
       "      <th>115</th>\n",
       "      <th>116</th>\n",
       "      <th>117</th>\n",
       "      <th>118</th>\n",
       "      <th>119</th>\n",
       "      <th>fx</th>\n",
       "      <th>fy</th>\n",
       "    </tr>\n",
       "    <tr>\n",
       "      <th>ID</th>\n",
       "      <th></th>\n",
       "      <th></th>\n",
       "      <th></th>\n",
       "      <th></th>\n",
       "      <th></th>\n",
       "      <th></th>\n",
       "      <th></th>\n",
       "      <th></th>\n",
       "      <th></th>\n",
       "      <th></th>\n",
       "      <th></th>\n",
       "      <th></th>\n",
       "      <th></th>\n",
       "      <th></th>\n",
       "      <th></th>\n",
       "      <th></th>\n",
       "      <th></th>\n",
       "      <th></th>\n",
       "      <th></th>\n",
       "      <th></th>\n",
       "      <th></th>\n",
       "    </tr>\n",
       "  </thead>\n",
       "  <tbody>\n",
       "    <tr>\n",
       "      <th>2dm-1</th>\n",
       "      <td>IrF2</td>\n",
       "      <td>AB2</td>\n",
       "      <td>164</td>\n",
       "      <td>3</td>\n",
       "      <td>0</td>\n",
       "      <td>0.095102</td>\n",
       "      <td>bottom-up</td>\n",
       "      <td>0</td>\n",
       "      <td>0</td>\n",
       "      <td>0.234620</td>\n",
       "      <td>...</td>\n",
       "      <td>11.0</td>\n",
       "      <td>18.0</td>\n",
       "      <td>12.0</td>\n",
       "      <td>9.0</td>\n",
       "      <td>10.0</td>\n",
       "      <td>16.0</td>\n",
       "      <td>12.0</td>\n",
       "      <td>18.0</td>\n",
       "      <td>-54.525272</td>\n",
       "      <td>31.900337</td>\n",
       "    </tr>\n",
       "    <tr>\n",
       "      <th>2dm-2</th>\n",
       "      <td>Ba2Sb</td>\n",
       "      <td>AB2</td>\n",
       "      <td>164</td>\n",
       "      <td>3</td>\n",
       "      <td>1</td>\n",
       "      <td>0.387410</td>\n",
       "      <td>bottom-up</td>\n",
       "      <td>0</td>\n",
       "      <td>0</td>\n",
       "      <td>0.210650</td>\n",
       "      <td>...</td>\n",
       "      <td>26.0</td>\n",
       "      <td>7.0</td>\n",
       "      <td>5.0</td>\n",
       "      <td>0.0</td>\n",
       "      <td>0.0</td>\n",
       "      <td>0.0</td>\n",
       "      <td>0.0</td>\n",
       "      <td>0.0</td>\n",
       "      <td>-83.819960</td>\n",
       "      <td>-37.819603</td>\n",
       "    </tr>\n",
       "    <tr>\n",
       "      <th>2dm-3</th>\n",
       "      <td>TlS</td>\n",
       "      <td>AB</td>\n",
       "      <td>2</td>\n",
       "      <td>4</td>\n",
       "      <td>4</td>\n",
       "      <td>0.846460</td>\n",
       "      <td>bottom-up</td>\n",
       "      <td>1</td>\n",
       "      <td>3</td>\n",
       "      <td>0.095794</td>\n",
       "      <td>...</td>\n",
       "      <td>77.0</td>\n",
       "      <td>50.0</td>\n",
       "      <td>17.0</td>\n",
       "      <td>0.0</td>\n",
       "      <td>0.0</td>\n",
       "      <td>0.0</td>\n",
       "      <td>0.0</td>\n",
       "      <td>0.0</td>\n",
       "      <td>76.890816</td>\n",
       "      <td>-31.039242</td>\n",
       "    </tr>\n",
       "    <tr>\n",
       "      <th>2dm-4</th>\n",
       "      <td>MoCl2</td>\n",
       "      <td>AB2</td>\n",
       "      <td>166</td>\n",
       "      <td>5</td>\n",
       "      <td>4</td>\n",
       "      <td>0.713760</td>\n",
       "      <td>bottom-up</td>\n",
       "      <td>0</td>\n",
       "      <td>0</td>\n",
       "      <td>-0.055818</td>\n",
       "      <td>...</td>\n",
       "      <td>25.0</td>\n",
       "      <td>23.0</td>\n",
       "      <td>41.0</td>\n",
       "      <td>26.0</td>\n",
       "      <td>43.0</td>\n",
       "      <td>38.0</td>\n",
       "      <td>49.0</td>\n",
       "      <td>73.0</td>\n",
       "      <td>1.186618</td>\n",
       "      <td>83.082000</td>\n",
       "    </tr>\n",
       "    <tr>\n",
       "      <th>2dm-6</th>\n",
       "      <td>RuI2</td>\n",
       "      <td>AB2</td>\n",
       "      <td>164</td>\n",
       "      <td>3</td>\n",
       "      <td>1</td>\n",
       "      <td>0.264930</td>\n",
       "      <td>bottom-up</td>\n",
       "      <td>0</td>\n",
       "      <td>0</td>\n",
       "      <td>0.084831</td>\n",
       "      <td>...</td>\n",
       "      <td>20.0</td>\n",
       "      <td>19.0</td>\n",
       "      <td>27.0</td>\n",
       "      <td>18.0</td>\n",
       "      <td>15.0</td>\n",
       "      <td>26.0</td>\n",
       "      <td>22.0</td>\n",
       "      <td>26.0</td>\n",
       "      <td>-58.914627</td>\n",
       "      <td>52.385628</td>\n",
       "    </tr>\n",
       "  </tbody>\n",
       "</table>\n",
       "<p>5 rows × 148 columns</p>\n",
       "</div>"
      ],
      "text/plain": [
       "      formula gen_formula  space_group  segments  flat_segments  \\\n",
       "ID                                                                \n",
       "2dm-1    IrF2         AB2          164         3              0   \n",
       "2dm-2   Ba2Sb         AB2          164         3              1   \n",
       "2dm-3     TlS          AB            2         4              4   \n",
       "2dm-4   MoCl2         AB2          166         5              4   \n",
       "2dm-6    RuI2         AB2          164         3              1   \n",
       "\n",
       "       flatness_score  discovery  binary_flatness  horz_flat_seg  \\\n",
       "ID                                                                 \n",
       "2dm-1        0.095102  bottom-up                0              0   \n",
       "2dm-2        0.387410  bottom-up                0              0   \n",
       "2dm-3        0.846460  bottom-up                1              3   \n",
       "2dm-4        0.713760  bottom-up                0              0   \n",
       "2dm-6        0.264930  bottom-up                0              0   \n",
       "\n",
       "       exfoliation_eg  ...   112   113   114   115   116   117   118   119  \\\n",
       "ID                     ...                                                   \n",
       "2dm-1        0.234620  ...  11.0  18.0  12.0   9.0  10.0  16.0  12.0  18.0   \n",
       "2dm-2        0.210650  ...  26.0   7.0   5.0   0.0   0.0   0.0   0.0   0.0   \n",
       "2dm-3        0.095794  ...  77.0  50.0  17.0   0.0   0.0   0.0   0.0   0.0   \n",
       "2dm-4       -0.055818  ...  25.0  23.0  41.0  26.0  43.0  38.0  49.0  73.0   \n",
       "2dm-6        0.084831  ...  20.0  19.0  27.0  18.0  15.0  26.0  22.0  26.0   \n",
       "\n",
       "              fx         fy  \n",
       "ID                           \n",
       "2dm-1 -54.525272  31.900337  \n",
       "2dm-2 -83.819960 -37.819603  \n",
       "2dm-3  76.890816 -31.039242  \n",
       "2dm-4   1.186618  83.082000  \n",
       "2dm-6 -58.914627  52.385628  \n",
       "\n",
       "[5 rows x 148 columns]"
      ]
     },
     "execution_count": 3,
     "metadata": {},
     "output_type": "execute_result"
    }
   ],
   "source": [
    "df = pd.read_csv(f\"../fingerprints/{INPUT_NAME}\", index_col=\"ID\")\n",
    "df.head()"
   ]
  },
  {
   "cell_type": "markdown",
   "id": "ad3cfbf5-260a-4ac1-8a88-99717ea68eb2",
   "metadata": {},
   "source": [
    "## Cluster"
   ]
  },
  {
   "cell_type": "code",
   "execution_count": 4,
   "id": "52c35b16-e5c3-482f-aa34-02e9a4849f94",
   "metadata": {},
   "outputs": [],
   "source": [
    "fingerprint_cols = [str(i) for i in range(FINGERPRINT_LENGTH)]"
   ]
  },
  {
   "cell_type": "code",
   "execution_count": 5,
   "id": "cecc8c1c-fdcc-4d40-be79-f0fee9efcc92",
   "metadata": {},
   "outputs": [],
   "source": [
    "clusterer = hdbscan.HDBSCAN(algorithm='best', alpha=1.0, approx_min_span_tree=True,\\\n",
    "                        gen_min_span_tree=False, leaf_size=40, metric='minkowski', cluster_selection_method='leaf', min_cluster_size=4, min_samples=4, p=0.2)\n",
    "clusterer.fit(df[fingerprint_cols])\n",
    "\n",
    "df[\"labels\"] = clusterer.labels_"
   ]
  },
  {
   "cell_type": "code",
   "execution_count": 6,
   "id": "52de4ae0-a391-4944-93fc-82d98a7da656",
   "metadata": {},
   "outputs": [
    {
     "data": {
      "application/vnd.jupyter.widget-view+json": {
       "model_id": "189d9a9096c844e58cda75249ed6bacb",
       "version_major": 2,
       "version_minor": 0
      },
      "text/plain": [
       "interactive(children=(IntSlider(value=31, description='label', max=63, min=-1), Output()), _dom_classes=('widg…"
      ]
     },
     "metadata": {},
     "output_type": "display_data"
    },
    {
     "data": {
      "text/plain": [
       "<function __main__.view_cluster(label)>"
      ]
     },
     "execution_count": 6,
     "metadata": {},
     "output_type": "execute_result"
    }
   ],
   "source": [
    "from ipywidgets import interact\n",
    "\n",
    "def view_cluster(label):\n",
    "    display(df[df.labels==label].head(100))\n",
    "\n",
    "    num_plots = len(df[df.labels==label])\n",
    "\n",
    "    fig, ax = plt.subplots(num_plots, 1, figsize=(4, 1*num_plots))\n",
    "\n",
    "    for i, index in enumerate(df[df.labels==label].index):\n",
    "        ax[i].plot(np.linspace(0, FINGERPRINT_LENGTH, FINGERPRINT_LENGTH), df.loc[index][fingerprint_cols])\n",
    "\n",
    "\n",
    "    \n",
    "    \n",
    "interact(view_cluster, label=(-1, len(np.unique(df.labels))-2, 1))"
   ]
  },
  {
   "cell_type": "code",
   "execution_count": 12,
   "id": "93806fb5-3911-4c95-b739-a5d9a8e25a46",
   "metadata": {},
   "outputs": [
    {
     "data": {
      "image/png": "[encoded data removed]",
      "text/plain": [
       "<Figure size 640x480 with 1 Axes>"
      ]
     },
     "metadata": {},
     "output_type": "display_data"
    }
   ],
   "source": [
    "fig, ax = plt.subplots()\n",
    "ax = plot_cluster_ellipses(df, ax=ax, color=\"red\")\n",
    "ax.set_xlim([-100, 100])\n",
    "ax.set_ylim([-100, 100])\n",
    "plt.show()"
   ]
  },
  {
   "cell_type": "code",
   "execution_count": null,
   "id": "1e13011b-9db4-4ff8-b09b-bfa093290b27",
   "metadata": {},
   "outputs": [],
   "source": []
  }
 ],
 "metadata": {
  "kernelspec": {
   "display_name": "Python 3 (ipykernel)",
   "language": "python",
   "name": "python3"
  },
  "language_info": {
   "codemirror_mode": {
    "name": "ipython",
    "version": 3
   },
   "file_extension": ".py",
   "mimetype": "text/x-python",
   "name": "python",
   "nbconvert_exporter": "python",
   "pygments_lexer": "ipython3",
   "version": "3.12.0"
  }
 },
 "nbformat": 4,
 "nbformat_minor": 5
}
