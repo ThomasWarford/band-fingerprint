{
 "cells": [
  {
   "cell_type": "code",
   "execution_count": 1,
   "id": "0be7ce91-2cc8-4c8a-9029-a0149f72a6a3",
   "metadata": {},
   "outputs": [
    {
     "ename": "ModuleNotFoundError",
     "evalue": "No module named 'hdbscan'",
     "output_type": "error",
     "traceback": [
      "\u001b[0;31m---------------------------------------------------------------------------\u001b[0m",
      "\u001b[0;31mModuleNotFoundError\u001b[0m                       Traceback (most recent call last)",
      "Input \u001b[0;32mIn [1]\u001b[0m, in \u001b[0;36m<cell line: 1>\u001b[0;34m()\u001b[0m\n\u001b[0;32m----> 1\u001b[0m \u001b[38;5;28;01mimport\u001b[39;00m \u001b[38;5;21;01mhdbscan\u001b[39;00m\n\u001b[1;32m      2\u001b[0m \u001b[38;5;28;01mimport\u001b[39;00m \u001b[38;5;21;01mpandas\u001b[39;00m \u001b[38;5;28;01mas\u001b[39;00m \u001b[38;5;21;01mpd\u001b[39;00m\n\u001b[1;32m      3\u001b[0m \u001b[38;5;28;01mimport\u001b[39;00m \u001b[38;5;21;01mnumpy\u001b[39;00m \u001b[38;5;28;01mas\u001b[39;00m \u001b[38;5;21;01mnp\u001b[39;00m\n",
      "\u001b[0;31mModuleNotFoundError\u001b[0m: No module named 'hdbscan'"
     ]
    }
   ],
   "source": [
    "import hdbscan\n",
    "import pandas as pd\n",
    "import numpy as np\n",
    "import matplotlib.pyplot as plt\n",
    "from sklearn import manifold\n",
    "from ipywidgets import interact, Output\n",
    "from IPython.display import clear_output\n",
    "\n",
    "import sys\n",
    "sys.path.append('..')\n",
    "from src.band_plotters import DATA_DIRECTORY\n",
    "from src.cluster_plotters import plot_cluster_ellipses, plot_groups"
   ]
  },
  {
   "cell_type": "code",
   "execution_count": 2,
   "id": "a4dd275e-aa77-4c3a-8337-1ff61cd91281",
   "metadata": {},
   "outputs": [
    {
     "name": "stdout",
     "output_type": "stream",
     "text": [
      "Collecting hdbscan\n",
      "  Downloading hdbscan-0.8.33.tar.gz (5.2 MB)\n",
      "\u001b[2K     \u001b[90m━━━━━━━━━━━━━━━━━━━━━━━━━━━━━━━━━━━━━━━━\u001b[0m \u001b[32m5.2/5.2 MB\u001b[0m \u001b[31m59.1 MB/s\u001b[0m eta \u001b[36m0:00:00\u001b[0m00:01\u001b[0m00:01\u001b[0m\n",
      "\u001b[?25h  Installing build dependencies ... \u001b[?25ldone\n",
      "\u001b[?25h  Getting requirements to build wheel ... \u001b[?25ldone\n",
      "\u001b[?25h  Preparing metadata (pyproject.toml) ... \u001b[?25ldone\n",
      "\u001b[?25hCollecting colorcet\n",
      "  Downloading colorcet-3.0.1-py2.py3-none-any.whl (1.7 MB)\n",
      "\u001b[2K     \u001b[90m━━━━━━━━━━━━━━━━━━━━━━━━━━━━━━━━━━━━━━━━\u001b[0m \u001b[32m1.7/1.7 MB\u001b[0m \u001b[31m52.4 MB/s\u001b[0m eta \u001b[36m0:00:00\u001b[0m\n",
      "\u001b[?25hRequirement already satisfied: cython<3,>=0.27 in /usr/local/lib/python3.9/dist-packages (from hdbscan) (0.29.30)\n",
      "Requirement already satisfied: joblib>=1.0 in /usr/local/lib/python3.9/dist-packages (from hdbscan) (1.1.0)\n",
      "Requirement already satisfied: numpy>=1.20 in /usr/local/lib/python3.9/dist-packages (from hdbscan) (1.23.1)\n",
      "Requirement already satisfied: scikit-learn>=0.20 in /usr/local/lib/python3.9/dist-packages (from hdbscan) (1.1.1)\n",
      "Requirement already satisfied: scipy>=1.0 in /usr/local/lib/python3.9/dist-packages (from hdbscan) (1.8.1)\n",
      "Collecting pyct>=0.4.4\n",
      "  Downloading pyct-0.5.0-py2.py3-none-any.whl (15 kB)\n",
      "Collecting param>=1.7.0\n",
      "  Downloading param-2.0.1-py3-none-any.whl (113 kB)\n",
      "\u001b[2K     \u001b[90m━━━━━━━━━━━━━━━━━━━━━━━━━━━━━━━━━━━━━━\u001b[0m \u001b[32m113.4/113.4 kB\u001b[0m \u001b[31m13.8 MB/s\u001b[0m eta \u001b[36m0:00:00\u001b[0m\n",
      "\u001b[?25hRequirement already satisfied: threadpoolctl>=2.0.0 in /usr/local/lib/python3.9/dist-packages (from scikit-learn>=0.20->hdbscan) (3.1.0)\n",
      "Building wheels for collected packages: hdbscan\n",
      "  Building wheel for hdbscan (pyproject.toml) ... \u001b[?25ldone\n",
      "\u001b[?25h  Created wheel for hdbscan: filename=hdbscan-0.8.33-cp39-cp39-linux_x86_64.whl size=3584983 sha256=2e5ea4184fea3993c0a2d7c67c6ef02c9c2161f6dd94594d5bf76d8a231b96ea\n",
      "  Stored in directory: /root/.cache/pip/wheels/28/5e/ed/5989da4cc423a222a47cbb4fde5d6c0eff4590d922e45f233c\n",
      "Successfully built hdbscan\n",
      "Installing collected packages: param, pyct, hdbscan, colorcet\n",
      "Successfully installed colorcet-3.0.1 hdbscan-0.8.33 param-2.0.1 pyct-0.5.0\n",
      "\u001b[33mWARNING: Running pip as the 'root' user can result in broken permissions and conflicting behaviour with the system package manager. It is recommended to use a virtual environment instead: https://pip.pypa.io/warnings/venv\u001b[0m\u001b[33m\n",
      "\u001b[0m"
     ]
    }
   ],
   "source": [
    "!pip install hdbscan colorcet"
   ]
  },
  {
   "cell_type": "code",
   "execution_count": null,
   "id": "df2d40a7-3d45-4ddc-9f83-f177bfd538ed",
   "metadata": {},
   "outputs": [],
   "source": [
    "FINGERPRINT_NAME = \"all_k_branches_histogram_-8_to_8\"\n",
    "FINGERPRINT_LENGTH = 120\n",
    "PERPLEXITY = 30\n",
    "FLAT_ONLY = True\n",
    "INPUT_NAME = f\"{FINGERPRINT_NAME}_perplexity_{PERPLEXITY}_length_{FINGERPRINT_LENGTH}.csv\""
   ]
  },
  {
   "cell_type": "markdown",
   "id": "81594502-7893-4d49-8df3-d88932fd59c9",
   "metadata": {},
   "source": [
    "## Load Data"
   ]
  },
  {
   "cell_type": "code",
   "execution_count": null,
   "id": "55431b8d-b4ed-4ac3-b6ca-cbd762fa8d74",
   "metadata": {},
   "outputs": [],
   "source": [
    "df = pd.read_csv(f\"../fingerprints/{INPUT_NAME}\", index_col=\"ID\")\n",
    "if FLAT_ONLY:\n",
    "    df = df[df.horz_flat_seg>0]\n",
    "df.head()"
   ]
  },
  {
   "cell_type": "markdown",
   "id": "ad3cfbf5-260a-4ac1-8a88-99717ea68eb2",
   "metadata": {},
   "source": [
    "## Cluster"
   ]
  },
  {
   "cell_type": "code",
   "execution_count": null,
   "id": "52c35b16-e5c3-482f-aa34-02e9a4849f94",
   "metadata": {},
   "outputs": [],
   "source": [
    "fingerprint_cols = [str(i) for i in range(FINGERPRINT_LENGTH)]"
   ]
  },
  {
   "cell_type": "code",
   "execution_count": null,
   "id": "cecc8c1c-fdcc-4d40-be79-f0fee9efcc92",
   "metadata": {},
   "outputs": [],
   "source": [
    "clusterer = hdbscan.HDBSCAN(algorithm='best', alpha=1.0, approx_min_span_tree=True,\\\n",
    "                        gen_min_span_tree=False, leaf_size=40, metric='minkowski', cluster_selection_method='leaf', min_cluster_size=4, min_samples=4, p=0.2)\n",
    "clusterer.fit(df[fingerprint_cols])\n",
    "\n",
    "df[\"labels\"] = clusterer.labels_"
   ]
  },
  {
   "cell_type": "code",
   "execution_count": null,
   "id": "52de4ae0-a391-4944-93fc-82d98a7da656",
   "metadata": {
    "scrolled": true
   },
   "outputs": [],
   "source": [
    "def view_cluster(label):\n",
    "    display(df[df.labels==label].head(100))\n",
    "\n",
    "    num_plots = len(df[df.labels==label])\n",
    "\n",
    "    fig, ax = plt.subplots(num_plots, 1, figsize=(4, 1*num_plots))\n",
    "\n",
    "    for i, index in enumerate(df[df.labels==label].index):\n",
    "        ax[i].plot(np.linspace(0, FINGERPRINT_LENGTH, FINGERPRINT_LENGTH), df.loc[index][fingerprint_cols])\n",
    "        ax[i].set_xlabel(index)\n",
    "    \n",
    "    \n",
    "interact(view_cluster, label=(-1, len(np.unique(df.labels))-2, 1))"
   ]
  },
  {
   "cell_type": "markdown",
   "id": "793e18fb-90d0-4be5-a1d9-51fbca046533",
   "metadata": {},
   "source": [
    "## Rerun TSNE (ONLY IF ON FLAT SUBSET)"
   ]
  },
  {
   "cell_type": "code",
   "execution_count": null,
   "id": "1a7a0202-608b-41e6-b275-9af566ca6252",
   "metadata": {},
   "outputs": [],
   "source": [
    "if FLAT_ONLY:\n",
    "    tsne = manifold.TSNE(n_components=2, early_exaggeration=12.0, init=\"pca\",learning_rate=100, random_state=0, perplexity=PERPLEXITY ,n_iter=10000, verbose=2)\n",
    "    fingerprint_2d = tsne.fit_transform(df[fingerprint_cols])\n",
    "    df.fx, df.fy = fingerprint_2d[:, 0], fingerprint_2d[:, 1]"
   ]
  },
  {
   "cell_type": "markdown",
   "id": "67548815-1875-4e9e-af14-d3f07b82c8df",
   "metadata": {},
   "source": [
    "## Example Plots\n",
    "I recommend plotting the groups before the cluster ellipses, otherwise the figure might end up having axis going from 0 to 1."
   ]
  },
  {
   "cell_type": "code",
   "execution_count": null,
   "id": "93806fb5-3911-4c95-b739-a5d9a8e25a46",
   "metadata": {},
   "outputs": [],
   "source": [
    "ax = plot_groups(df,\"discovery\")\n",
    "ax = plot_cluster_ellipses(df, ax=ax, color=\"black\")\n",
    "ax.legend()"
   ]
  },
  {
   "cell_type": "code",
   "execution_count": null,
   "id": "aa506de7-b486-4d87-9924-11f0286eefe7",
   "metadata": {},
   "outputs": [],
   "source": [
    "ax = plot_groups(df, \"relative_id\")\n",
    "ax = plot_cluster_ellipses(df, ax=ax, color=\"black\")\n",
    "plt.show()"
   ]
  },
  {
   "cell_type": "code",
   "execution_count": null,
   "id": "99264e7e-1376-4512-8476-69cee26b5d7d",
   "metadata": {},
   "outputs": [],
   "source": [
    "ax = plot_groups(df, \"segments\")\n",
    "ax = plot_cluster_ellipses(df, ax=ax, color=\"black\")\n",
    "ax.legend()\n",
    "plt.show()"
   ]
  }
 ],
 "metadata": {
  "kernelspec": {
   "display_name": "Python 3 (ipykernel)",
   "language": "python",
   "name": "python3"
  },
  "language_info": {
   "codemirror_mode": {
    "name": "ipython",
    "version": 3
   },
   "file_extension": ".py",
   "mimetype": "text/x-python",
   "name": "python",
   "nbconvert_exporter": "python",
   "pygments_lexer": "ipython3",
   "version": "3.9.13"
  }
 },
 "nbformat": 4,
 "nbformat_minor": 5
}
