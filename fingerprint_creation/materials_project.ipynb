{
 "cells": [
  {
   "cell_type": "code",
   "execution_count": 1,
   "id": "32f62046-ef8f-422b-a66d-fab3bd4a85d3",
   "metadata": {
    "tags": []
   },
   "outputs": [
    {
     "name": "stdout",
     "output_type": "stream",
     "text": [
      "\u001b[33mWARNING: Running pip as the 'root' user can result in broken permissions and conflicting behaviour with the system package manager. It is recommended to use a virtual environment instead: https://pip.pypa.io/warnings/venv\u001b[0m\u001b[33m\n",
      "\u001b[0m\u001b[33mWARNING: Running pip as the 'root' user can result in broken permissions and conflicting behaviour with the system package manager. It is recommended to use a virtual environment instead: https://pip.pypa.io/warnings/venv\u001b[0m\u001b[33m\n",
      "\u001b[0m"
     ]
    }
   ],
   "source": [
    "!pip install hdbscan -q\n",
    "!pip install pymatgen -q"
   ]
  },
  {
   "cell_type": "code",
   "execution_count": 2,
   "id": "bc8c6ef5-5010-46b3-b89b-eab6dc0c00b3",
   "metadata": {
    "tags": []
   },
   "outputs": [],
   "source": [
    "import pandas as pd\n",
    "import numpy as np\n",
    "import matplotlib\n",
    "import matplotlib.pyplot as plt\n",
    "from sklearn import manifold\n",
    "import hdbscan\n",
    "import os\n",
    "import json\n",
    "\n",
    "import sys\n",
    "sys.path.append('..')\n",
    "sys.path.append('../autoencoder')\n",
    "\n",
    "\n",
    "from fastai import *\n",
    "from fastai.vision.all import *\n",
    "\n",
    "from src.band_plotters import *\n",
    "from src.TensorImageNoised import *\n",
    "from src.transforms import Binarize\n",
    "\n",
    "sys.path.append('/notebooks/band-fingerprint/autoencoder/resnet_autoencoder')\n",
    "from model import *"
   ]
  },
  {
   "cell_type": "code",
   "execution_count": 3,
   "id": "6cfd4f7c-f4f8-4419-ab14-412fea086c4a",
   "metadata": {},
   "outputs": [],
   "source": [
    "DATA_DIRECTORY = Path(\"/storage/materials_project/images\")"
   ]
  },
  {
   "cell_type": "markdown",
   "id": "e486923d-2b4e-47fa-83e2-3a00e78cf965",
   "metadata": {
    "tags": []
   },
   "source": [
    "# Select Fingerprint Name and Length Here:"
   ]
  },
  {
   "cell_type": "code",
   "execution_count": 4,
   "id": "09af96eb-50f6-41dd-b1fe-c320ca91575f",
   "metadata": {
    "tags": []
   },
   "outputs": [
    {
     "name": "stdout",
     "output_type": "stream",
     "text": [
      "224_2channel_resnet_L=98\n"
     ]
    }
   ],
   "source": [
    "FINGERPRINT_LENGTH = 98\n",
    "FINGERPRINT_NAME = \"224_2channel_resnet_L={0}\".format(FINGERPRINT_LENGTH)\n",
    "\n",
    "# WIDTH=224\n",
    "PERPLEXITY = 30\n",
    "OUTPUT_NAME = f\"{FINGERPRINT_NAME}_perplexity_{PERPLEXITY}_length_{FINGERPRINT_LENGTH}.csv\"\n",
    "print(FINGERPRINT_NAME)"
   ]
  },
  {
   "cell_type": "markdown",
   "id": "dfcdda2e-41e4-4556-9799-c1a171759edc",
   "metadata": {
    "tags": []
   },
   "source": [
    "To make a new fingerprint all you need to change is the constants above and/or the calc_fingerprint function below."
   ]
  },
  {
   "cell_type": "markdown",
   "id": "f1a859a5-ce17-434f-823b-16c2e9d3ea58",
   "metadata": {
    "tags": []
   },
   "source": [
    "# Start with Anupam's list of materials"
   ]
  },
  {
   "cell_type": "code",
   "execution_count": 5,
   "id": "d485efe0-a52e-408a-9f08-dd49c228554f",
   "metadata": {
    "tags": []
   },
   "outputs": [
    {
     "data": {
      "text/html": [
       "<div>\n",
       "<style scoped>\n",
       "    .dataframe tbody tr th:only-of-type {\n",
       "        vertical-align: middle;\n",
       "    }\n",
       "\n",
       "    .dataframe tbody tr th {\n",
       "        vertical-align: top;\n",
       "    }\n",
       "\n",
       "    .dataframe thead th {\n",
       "        text-align: right;\n",
       "    }\n",
       "</style>\n",
       "<table border=\"1\" class=\"dataframe\">\n",
       "  <thead>\n",
       "    <tr style=\"text-align: right;\">\n",
       "      <th></th>\n",
       "      <th>flat</th>\n",
       "      <th>flat_segments</th>\n",
       "      <th>formula</th>\n",
       "      <th>synth_score</th>\n",
       "      <th>Cluster_ID</th>\n",
       "      <th>cluster_size</th>\n",
       "      <th>sublattice_element</th>\n",
       "      <th>dbcv_cluster</th>\n",
       "      <th>probabilities</th>\n",
       "      <th>paper_titles</th>\n",
       "      <th>experimentally_observed</th>\n",
       "      <th>band_gap</th>\n",
       "      <th>synth_score_2</th>\n",
       "      <th>sub_lattice_structure</th>\n",
       "      <th>lattice_structure</th>\n",
       "    </tr>\n",
       "    <tr>\n",
       "      <th>material_id</th>\n",
       "      <th></th>\n",
       "      <th></th>\n",
       "      <th></th>\n",
       "      <th></th>\n",
       "      <th></th>\n",
       "      <th></th>\n",
       "      <th></th>\n",
       "      <th></th>\n",
       "      <th></th>\n",
       "      <th></th>\n",
       "      <th></th>\n",
       "      <th></th>\n",
       "      <th></th>\n",
       "      <th></th>\n",
       "      <th></th>\n",
       "    </tr>\n",
       "  </thead>\n",
       "  <tbody>\n",
       "    <tr>\n",
       "      <th>mp-7</th>\n",
       "      <td>True</td>\n",
       "      <td>[4]</td>\n",
       "      <td>S</td>\n",
       "      <td>0.013924</td>\n",
       "      <td>-1</td>\n",
       "      <td>24875</td>\n",
       "      <td>S</td>\n",
       "      <td>0.846820</td>\n",
       "      <td>0.000000</td>\n",
       "      <td>['The lattice of rhombohedral sulfur', 'The crystal and molecular structure of S6 (Sulfur-6)', 'The crystal and molecular structure of S6 (sulfur-6)', 'Redetermination of the crystal and molecular structure of cyclohexasulphur, S6']</td>\n",
       "      <td>True</td>\n",
       "      <td>2.2079</td>\n",
       "      <td>0.999939</td>\n",
       "      <td>{'@module': 'pymatgen.core.structure', '@class': 'Structure', 'charge': 0, 'lattice': {'matrix': [[5.83749204, 0.06254491, -2.71890814], [-4.28350897, 3.9662647, -2.71900595], [0.02407769, 0.0625842, 6.43958097]], 'pbc': (True, True, True), 'a': 6.439929087854037, 'b': 6.439929978087647, 'c': 6.43993009173481, 'alpha': 114.75185786877043, 'beta': 114.75184782858017, 'gamma': 114.75183455160276, 'volume': 152.79889506945906}, 'properties': {}, 'sites': [{'species': [{'element': 'S', 'occu': 1}], 'abc': [0.24492283, 0.14077002, 0.90933939], 'xyz': [0.848640219099403, 0.6305601157552272, 4.80...</td>\n",
       "      <td>{'@module': 'pymatgen.core.structure', '@class': 'Structure', 'charge': 0, 'lattice': {'matrix': [[5.83749204, 0.06254491, -2.71890814], [-4.28350897, 3.9662647, -2.71900595], [0.02407769, 0.0625842, 6.43958097]], 'pbc': (True, True, True), 'a': 6.439929087854037, 'b': 6.439929978087647, 'c': 6.43993009173481, 'alpha': 114.75185786877043, 'beta': 114.75184782858017, 'gamma': 114.75183455160276, 'volume': 152.79889506945906}, 'properties': {}, 'sites': [{'species': [{'element': 'S', 'occu': 1}], 'abc': [0.24492283, 0.14077002, 0.90933939], 'xyz': [0.848640219099403, 0.6305601157552272, 4.80...</td>\n",
       "    </tr>\n",
       "    <tr>\n",
       "      <th>mp-25</th>\n",
       "      <td>True</td>\n",
       "      <td>[3]</td>\n",
       "      <td>N2</td>\n",
       "      <td>0.127548</td>\n",
       "      <td>63</td>\n",
       "      <td>282</td>\n",
       "      <td>N</td>\n",
       "      <td>0.212178</td>\n",
       "      <td>0.104165</td>\n",
       "      <td>['Electron Diffraction and the Structure of alpha-N2', 'Error estimates for solid-state density-functional theory predictions: an overview by means of the ground-state elemental crystals', 'A refinement of the positional parameter in alpha-nitrogen', 'A re-examination of the crystal structures of alpha and beta nitrogen']</td>\n",
       "      <td>True</td>\n",
       "      <td>7.3685</td>\n",
       "      <td>0.893845</td>\n",
       "      <td>{'@module': 'pymatgen.core.structure', '@class': 'Structure', 'charge': 0, 'lattice': {'matrix': [[5.56051766, -0.0, -0.0], [0.0, 5.56051766, 0.0], [0.0, 0.0, 5.56051766]], 'pbc': (True, True, True), 'a': 5.56051766, 'b': 5.56051766, 'c': 5.56051766, 'alpha': 90.0, 'beta': 90.0, 'gamma': 90.0, 'volume': 171.92762867243763}, 'properties': {}, 'sites': [{'species': [{'element': 'N', 'occu': 1}], 'abc': [0.05739733, 0.05739733, 0.05739733], 'xyz': [0.3191588671018478, 0.3191588671018478, 0.3191588671018478], 'properties': {'magmom': 0.0}, 'label': 'N'}, {'species': [{'element': 'N', 'occu': 1...</td>\n",
       "      <td>{'@module': 'pymatgen.core.structure', '@class': 'Structure', 'charge': 0, 'lattice': {'matrix': [[5.56051766, -0.0, -0.0], [0.0, 5.56051766, 0.0], [0.0, 0.0, 5.56051766]], 'pbc': (True, True, True), 'a': 5.56051766, 'b': 5.56051766, 'c': 5.56051766, 'alpha': 90.0, 'beta': 90.0, 'gamma': 90.0, 'volume': 171.92762867243763}, 'properties': {}, 'sites': [{'species': [{'element': 'N', 'occu': 1}], 'abc': [0.05739733, 0.05739733, 0.05739733], 'xyz': [0.3191588671018478, 0.3191588671018478, 0.3191588671018478], 'properties': {'magmom': 0.0}, 'label': 'N'}, {'species': [{'element': 'N', 'occu': 1...</td>\n",
       "    </tr>\n",
       "    <tr>\n",
       "      <th>mp-35</th>\n",
       "      <td>True</td>\n",
       "      <td>[1, 2, 3, 4]</td>\n",
       "      <td>Mn</td>\n",
       "      <td>0.007099</td>\n",
       "      <td>-1</td>\n",
       "      <td>24875</td>\n",
       "      <td>Mn</td>\n",
       "      <td>0.846820</td>\n",
       "      <td>0.000000</td>\n",
       "      <td>['Crystal structure of alpha-manganese', 'Antiferromagnetic structure of alpha-manganese and a magnetic structure of beta-manganese', 'Magnetic structure of alpha-Mn', 'A refiment of the parameters of alpha manganese', 'Solid phases of the Mn-C system', 'Error estimates for solid-state density-functional theory predictions: an overview by means of the ground-state elemental crystals', 'Preparation of alpha-manganese single crystals and their physical properties', 'Magnetic and crystallographic order in alpha-manganese', 'A refinement of the atomic and thermal parameters of alpha-manganese ...</td>\n",
       "      <td>True</td>\n",
       "      <td>0.0000</td>\n",
       "      <td>0.999977</td>\n",
       "      <td>{'@module': 'pymatgen.core.structure', '@class': 'Structure', 'charge': 0, 'lattice': {'matrix': [[-4.55350858, 4.55350858, 4.55350858], [4.55350858, -4.55350858, 4.55350858], [4.55350858, 4.55350858, -4.55350858]], 'pbc': (True, True, True), 'a': 7.886908213260812, 'b': 7.886908213260812, 'c': 7.886908213260812, 'alpha': 109.47122063449069, 'beta': 109.47122063449069, 'gamma': 109.47122063449069, 'volume': 377.65780883545983}, 'properties': {}, 'sites': [{'species': [{'element': 'Mn', 'occu': 1}], 'abc': [0.0, 0.0, 0.0], 'xyz': [0.0, 0.0, 0.0], 'properties': {'magmom': -4.065}, 'label': '...</td>\n",
       "      <td>{'@module': 'pymatgen.core.structure', '@class': 'Structure', 'charge': 0, 'lattice': {'matrix': [[-4.55350858, 4.55350858, 4.55350858], [4.55350858, -4.55350858, 4.55350858], [4.55350858, 4.55350858, -4.55350858]], 'pbc': (True, True, True), 'a': 7.886908213260812, 'b': 7.886908213260812, 'c': 7.886908213260812, 'alpha': 109.47122063449069, 'beta': 109.47122063449069, 'gamma': 109.47122063449069, 'volume': 377.65780883545983}, 'properties': {}, 'sites': [{'species': [{'element': 'Mn', 'occu': 1}], 'abc': [0.0, 0.0, 0.0], 'xyz': [0.0, 0.0, 0.0], 'properties': {'magmom': -4.065}, 'label': '...</td>\n",
       "    </tr>\n",
       "    <tr>\n",
       "      <th>mp-43</th>\n",
       "      <td>True</td>\n",
       "      <td>[1, 2, 3, 4]</td>\n",
       "      <td>U</td>\n",
       "      <td>0.001247</td>\n",
       "      <td>-1</td>\n",
       "      <td>24875</td>\n",
       "      <td>U</td>\n",
       "      <td>0.846820</td>\n",
       "      <td>0.000000</td>\n",
       "      <td>['The crystal structure of the beta phase of uranium', 'The beta-uranium structure', 'The minimum-residual refinement of beta-uranium from polycristalline data', 'The structure of beta-uranium']</td>\n",
       "      <td>True</td>\n",
       "      <td>0.0000</td>\n",
       "      <td>1.000000</td>\n",
       "      <td>{'@module': 'pymatgen.core.structure', '@class': 'Structure', 'charge': 0, 'lattice': {'matrix': [[5.59138008, 0.0, 0.0], [0.0, 10.15644829, -0.0], [0.0, -0.0, 10.15644829]], 'pbc': (True, True, True), 'a': 5.59138008, 'b': 10.15644829, 'c': 10.15644829, 'alpha': 90.0, 'beta': 90.0, 'gamma': 90.0, 'volume': 576.770100041064}, 'properties': {}, 'sites': [{'species': [{'element': 'U', 'occu': 1}], 'abc': [0.7323444, -0.0, 0.0], 'xyz': [4.094815889859552, 0.0, 0.0], 'properties': {'magmom': 0.0}, 'label': 'U'}, {'species': [{'element': 'U', 'occu': 1}], 'abc': [0.2323444, 0.5, 0.5], 'xyz': [1...</td>\n",
       "      <td>{'@module': 'pymatgen.core.structure', '@class': 'Structure', 'charge': 0, 'lattice': {'matrix': [[5.59138008, 0.0, 0.0], [0.0, 10.15644829, -0.0], [0.0, -0.0, 10.15644829]], 'pbc': (True, True, True), 'a': 5.59138008, 'b': 10.15644829, 'c': 10.15644829, 'alpha': 90.0, 'beta': 90.0, 'gamma': 90.0, 'volume': 576.770100041064}, 'properties': {}, 'sites': [{'species': [{'element': 'U', 'occu': 1}], 'abc': [0.7323444, -0.0, 0.0], 'xyz': [4.094815889859552, 0.0, 0.0], 'properties': {'magmom': 0.0}, 'label': 'U'}, {'species': [{'element': 'U', 'occu': 1}], 'abc': [0.2323444, 0.5, 0.5], 'xyz': [1...</td>\n",
       "    </tr>\n",
       "    <tr>\n",
       "      <th>mp-83</th>\n",
       "      <td>True</td>\n",
       "      <td>[3, 4]</td>\n",
       "      <td>S</td>\n",
       "      <td>0.013924</td>\n",
       "      <td>38</td>\n",
       "      <td>22</td>\n",
       "      <td>S</td>\n",
       "      <td>0.468464</td>\n",
       "      <td>0.972129</td>\n",
       "      <td>['X-Ray Structure Analyses of Two Allotropes of Cycloheptasulfur']</td>\n",
       "      <td>True</td>\n",
       "      <td>2.5657</td>\n",
       "      <td>0.999928</td>\n",
       "      <td>{'@module': 'pymatgen.core.structure', '@class': 'Structure', 'charge': 0, 'lattice': {'matrix': [[6.17737842, 1.055e-05, -8.6e-07], [2.91e-05, 15.53709542, -0.54795646], [-2.7e-06, 0.02915149, 15.56807807]], 'pbc': (True, True, True), 'a': 6.1773784200090684, 'b': 15.5467549788722, 'c': 15.56810536330582, 'alpha': 91.91256173682585, 'beta': 90.00001773023259, 'gamma': 89.99979468268485, 'volume': 1494.2997364741343}, 'properties': {}, 'sites': [{'species': [{'element': 'S', 'occu': 1}], 'abc': [0.93583876, 0.51311092, 0.21536422], 'xyz': [5.781044510667938, 7.978541386088592, 3.0716437423...</td>\n",
       "      <td>{'@module': 'pymatgen.core.structure', '@class': 'Structure', 'charge': 0, 'lattice': {'matrix': [[6.17737842, 1.055e-05, -8.6e-07], [2.91e-05, 15.53709542, -0.54795646], [-2.7e-06, 0.02915149, 15.56807807]], 'pbc': (True, True, True), 'a': 6.1773784200090684, 'b': 15.5467549788722, 'c': 15.56810536330582, 'alpha': 91.91256173682585, 'beta': 90.00001773023259, 'gamma': 89.99979468268485, 'volume': 1494.2997364741343}, 'properties': {}, 'sites': [{'species': [{'element': 'S', 'occu': 1}], 'abc': [0.93583876, 0.51311092, 0.21536422], 'xyz': [5.781044510667938, 7.978541386088592, 3.0716437423...</td>\n",
       "    </tr>\n",
       "  </tbody>\n",
       "</table>\n",
       "</div>"
      ],
      "text/plain": [
       "             flat flat_segments formula  synth_score  Cluster_ID  \\\n",
       "material_id                                                        \n",
       "mp-7         True           [4]       S     0.013924          -1   \n",
       "mp-25        True           [3]      N2     0.127548          63   \n",
       "mp-35        True  [1, 2, 3, 4]      Mn     0.007099          -1   \n",
       "mp-43        True  [1, 2, 3, 4]       U     0.001247          -1   \n",
       "mp-83        True        [3, 4]       S     0.013924          38   \n",
       "\n",
       "             cluster_size sublattice_element  dbcv_cluster  probabilities  \\\n",
       "material_id                                                                 \n",
       "mp-7                24875                  S      0.846820       0.000000   \n",
       "mp-25                 282                  N      0.212178       0.104165   \n",
       "mp-35               24875                 Mn      0.846820       0.000000   \n",
       "mp-43               24875                  U      0.846820       0.000000   \n",
       "mp-83                  22                  S      0.468464       0.972129   \n",
       "\n",
       "                                                                                                                                                                                                                                                                                                                                                                                                                                                                                                                                                                                                                        paper_titles  \\\n",
       "material_id                                                                                                                                                                                                                                                                                                                                                                                                                                                                                                                                                                                                                            \n",
       "mp-7                                                                                                                                                                                                                                                                                                                                                                                        ['The lattice of rhombohedral sulfur', 'The crystal and molecular structure of S6 (Sulfur-6)', 'The crystal and molecular structure of S6 (sulfur-6)', 'Redetermination of the crystal and molecular structure of cyclohexasulphur, S6']   \n",
       "mp-25                                                                                                                                                                                                                                                                                            ['Electron Diffraction and the Structure of alpha-N2', 'Error estimates for solid-state density-functional theory predictions: an overview by means of the ground-state elemental crystals', 'A refinement of the positional parameter in alpha-nitrogen', 'A re-examination of the crystal structures of alpha and beta nitrogen']   \n",
       "mp-35        ['Crystal structure of alpha-manganese', 'Antiferromagnetic structure of alpha-manganese and a magnetic structure of beta-manganese', 'Magnetic structure of alpha-Mn', 'A refiment of the parameters of alpha manganese', 'Solid phases of the Mn-C system', 'Error estimates for solid-state density-functional theory predictions: an overview by means of the ground-state elemental crystals', 'Preparation of alpha-manganese single crystals and their physical properties', 'Magnetic and crystallographic order in alpha-manganese', 'A refinement of the atomic and thermal parameters of alpha-manganese ...   \n",
       "mp-43                                                                                                                                                                                                                                                                                                                                                                                                                             ['The crystal structure of the beta phase of uranium', 'The beta-uranium structure', 'The minimum-residual refinement of beta-uranium from polycristalline data', 'The structure of beta-uranium']   \n",
       "mp-83                                                                                                                                                                                                                                                                                                                                                                                                                                                                                                                                                             ['X-Ray Structure Analyses of Two Allotropes of Cycloheptasulfur']   \n",
       "\n",
       "             experimentally_observed  band_gap  synth_score_2  \\\n",
       "material_id                                                     \n",
       "mp-7                            True    2.2079       0.999939   \n",
       "mp-25                           True    7.3685       0.893845   \n",
       "mp-35                           True    0.0000       0.999977   \n",
       "mp-43                           True    0.0000       1.000000   \n",
       "mp-83                           True    2.5657       0.999928   \n",
       "\n",
       "                                                                                                                                                                                                                                                                                                                                                                                                                                                                                                                                                                                                               sub_lattice_structure  \\\n",
       "material_id                                                                                                                                                                                                                                                                                                                                                                                                                                                                                                                                                                                                                            \n",
       "mp-7         {'@module': 'pymatgen.core.structure', '@class': 'Structure', 'charge': 0, 'lattice': {'matrix': [[5.83749204, 0.06254491, -2.71890814], [-4.28350897, 3.9662647, -2.71900595], [0.02407769, 0.0625842, 6.43958097]], 'pbc': (True, True, True), 'a': 6.439929087854037, 'b': 6.439929978087647, 'c': 6.43993009173481, 'alpha': 114.75185786877043, 'beta': 114.75184782858017, 'gamma': 114.75183455160276, 'volume': 152.79889506945906}, 'properties': {}, 'sites': [{'species': [{'element': 'S', 'occu': 1}], 'abc': [0.24492283, 0.14077002, 0.90933939], 'xyz': [0.848640219099403, 0.6305601157552272, 4.80...   \n",
       "mp-25        {'@module': 'pymatgen.core.structure', '@class': 'Structure', 'charge': 0, 'lattice': {'matrix': [[5.56051766, -0.0, -0.0], [0.0, 5.56051766, 0.0], [0.0, 0.0, 5.56051766]], 'pbc': (True, True, True), 'a': 5.56051766, 'b': 5.56051766, 'c': 5.56051766, 'alpha': 90.0, 'beta': 90.0, 'gamma': 90.0, 'volume': 171.92762867243763}, 'properties': {}, 'sites': [{'species': [{'element': 'N', 'occu': 1}], 'abc': [0.05739733, 0.05739733, 0.05739733], 'xyz': [0.3191588671018478, 0.3191588671018478, 0.3191588671018478], 'properties': {'magmom': 0.0}, 'label': 'N'}, {'species': [{'element': 'N', 'occu': 1...   \n",
       "mp-35        {'@module': 'pymatgen.core.structure', '@class': 'Structure', 'charge': 0, 'lattice': {'matrix': [[-4.55350858, 4.55350858, 4.55350858], [4.55350858, -4.55350858, 4.55350858], [4.55350858, 4.55350858, -4.55350858]], 'pbc': (True, True, True), 'a': 7.886908213260812, 'b': 7.886908213260812, 'c': 7.886908213260812, 'alpha': 109.47122063449069, 'beta': 109.47122063449069, 'gamma': 109.47122063449069, 'volume': 377.65780883545983}, 'properties': {}, 'sites': [{'species': [{'element': 'Mn', 'occu': 1}], 'abc': [0.0, 0.0, 0.0], 'xyz': [0.0, 0.0, 0.0], 'properties': {'magmom': -4.065}, 'label': '...   \n",
       "mp-43        {'@module': 'pymatgen.core.structure', '@class': 'Structure', 'charge': 0, 'lattice': {'matrix': [[5.59138008, 0.0, 0.0], [0.0, 10.15644829, -0.0], [0.0, -0.0, 10.15644829]], 'pbc': (True, True, True), 'a': 5.59138008, 'b': 10.15644829, 'c': 10.15644829, 'alpha': 90.0, 'beta': 90.0, 'gamma': 90.0, 'volume': 576.770100041064}, 'properties': {}, 'sites': [{'species': [{'element': 'U', 'occu': 1}], 'abc': [0.7323444, -0.0, 0.0], 'xyz': [4.094815889859552, 0.0, 0.0], 'properties': {'magmom': 0.0}, 'label': 'U'}, {'species': [{'element': 'U', 'occu': 1}], 'abc': [0.2323444, 0.5, 0.5], 'xyz': [1...   \n",
       "mp-83        {'@module': 'pymatgen.core.structure', '@class': 'Structure', 'charge': 0, 'lattice': {'matrix': [[6.17737842, 1.055e-05, -8.6e-07], [2.91e-05, 15.53709542, -0.54795646], [-2.7e-06, 0.02915149, 15.56807807]], 'pbc': (True, True, True), 'a': 6.1773784200090684, 'b': 15.5467549788722, 'c': 15.56810536330582, 'alpha': 91.91256173682585, 'beta': 90.00001773023259, 'gamma': 89.99979468268485, 'volume': 1494.2997364741343}, 'properties': {}, 'sites': [{'species': [{'element': 'S', 'occu': 1}], 'abc': [0.93583876, 0.51311092, 0.21536422], 'xyz': [5.781044510667938, 7.978541386088592, 3.0716437423...   \n",
       "\n",
       "                                                                                                                                                                                                                                                                                                                                                                                                                                                                                                                                                                                                                   lattice_structure  \n",
       "material_id                                                                                                                                                                                                                                                                                                                                                                                                                                                                                                                                                                                                                           \n",
       "mp-7         {'@module': 'pymatgen.core.structure', '@class': 'Structure', 'charge': 0, 'lattice': {'matrix': [[5.83749204, 0.06254491, -2.71890814], [-4.28350897, 3.9662647, -2.71900595], [0.02407769, 0.0625842, 6.43958097]], 'pbc': (True, True, True), 'a': 6.439929087854037, 'b': 6.439929978087647, 'c': 6.43993009173481, 'alpha': 114.75185786877043, 'beta': 114.75184782858017, 'gamma': 114.75183455160276, 'volume': 152.79889506945906}, 'properties': {}, 'sites': [{'species': [{'element': 'S', 'occu': 1}], 'abc': [0.24492283, 0.14077002, 0.90933939], 'xyz': [0.848640219099403, 0.6305601157552272, 4.80...  \n",
       "mp-25        {'@module': 'pymatgen.core.structure', '@class': 'Structure', 'charge': 0, 'lattice': {'matrix': [[5.56051766, -0.0, -0.0], [0.0, 5.56051766, 0.0], [0.0, 0.0, 5.56051766]], 'pbc': (True, True, True), 'a': 5.56051766, 'b': 5.56051766, 'c': 5.56051766, 'alpha': 90.0, 'beta': 90.0, 'gamma': 90.0, 'volume': 171.92762867243763}, 'properties': {}, 'sites': [{'species': [{'element': 'N', 'occu': 1}], 'abc': [0.05739733, 0.05739733, 0.05739733], 'xyz': [0.3191588671018478, 0.3191588671018478, 0.3191588671018478], 'properties': {'magmom': 0.0}, 'label': 'N'}, {'species': [{'element': 'N', 'occu': 1...  \n",
       "mp-35        {'@module': 'pymatgen.core.structure', '@class': 'Structure', 'charge': 0, 'lattice': {'matrix': [[-4.55350858, 4.55350858, 4.55350858], [4.55350858, -4.55350858, 4.55350858], [4.55350858, 4.55350858, -4.55350858]], 'pbc': (True, True, True), 'a': 7.886908213260812, 'b': 7.886908213260812, 'c': 7.886908213260812, 'alpha': 109.47122063449069, 'beta': 109.47122063449069, 'gamma': 109.47122063449069, 'volume': 377.65780883545983}, 'properties': {}, 'sites': [{'species': [{'element': 'Mn', 'occu': 1}], 'abc': [0.0, 0.0, 0.0], 'xyz': [0.0, 0.0, 0.0], 'properties': {'magmom': -4.065}, 'label': '...  \n",
       "mp-43        {'@module': 'pymatgen.core.structure', '@class': 'Structure', 'charge': 0, 'lattice': {'matrix': [[5.59138008, 0.0, 0.0], [0.0, 10.15644829, -0.0], [0.0, -0.0, 10.15644829]], 'pbc': (True, True, True), 'a': 5.59138008, 'b': 10.15644829, 'c': 10.15644829, 'alpha': 90.0, 'beta': 90.0, 'gamma': 90.0, 'volume': 576.770100041064}, 'properties': {}, 'sites': [{'species': [{'element': 'U', 'occu': 1}], 'abc': [0.7323444, -0.0, 0.0], 'xyz': [4.094815889859552, 0.0, 0.0], 'properties': {'magmom': 0.0}, 'label': 'U'}, {'species': [{'element': 'U', 'occu': 1}], 'abc': [0.2323444, 0.5, 0.5], 'xyz': [1...  \n",
       "mp-83        {'@module': 'pymatgen.core.structure', '@class': 'Structure', 'charge': 0, 'lattice': {'matrix': [[6.17737842, 1.055e-05, -8.6e-07], [2.91e-05, 15.53709542, -0.54795646], [-2.7e-06, 0.02915149, 15.56807807]], 'pbc': (True, True, True), 'a': 6.1773784200090684, 'b': 15.5467549788722, 'c': 15.56810536330582, 'alpha': 91.91256173682585, 'beta': 90.00001773023259, 'gamma': 89.99979468268485, 'volume': 1494.2997364741343}, 'properties': {}, 'sites': [{'species': [{'element': 'S', 'occu': 1}], 'abc': [0.93583876, 0.51311092, 0.21536422], 'xyz': [5.781044510667938, 7.978541386088592, 3.0716437423...  "
      ]
     },
     "execution_count": 5,
     "metadata": {},
     "output_type": "execute_result"
    }
   ],
   "source": [
    "df_material = pd.read_csv(\"../fingerprints/materials_project/df_full_structure.csv\", index_col=\"material_id\")\n",
    "df_material.head()"
   ]
  },
  {
   "cell_type": "markdown",
   "id": "e1e11653-5de9-412d-a54f-022eefac5870",
   "metadata": {
    "tags": []
   },
   "source": [
    "# Fingerprint Functions Here\n",
    "Fingerprint functions take material ID as only input"
   ]
  },
  {
   "cell_type": "markdown",
   "id": "fa86ae22-934c-4284-a1ac-c38c2d335b94",
   "metadata": {
    "tags": []
   },
   "source": [
    "## Resnet AE"
   ]
  },
  {
   "cell_type": "code",
   "execution_count": 6,
   "id": "321355ce-ef91-497f-810f-6aa4798b2cf4",
   "metadata": {
    "tags": []
   },
   "outputs": [
    {
     "name": "stdout",
     "output_type": "stream",
     "text": [
      "[0.19057909 0.0871634  2.9363995  2.9847589  3.5717373  3.5603118\n",
      " 2.9724271  0.10542203 0.23998821 5.195095   4.2632217  4.3253784\n",
      " 4.9800844  2.2932851  0.10291772 0.21524562 3.6416123  3.6008482\n",
      " 4.0520525  5.783118   3.064374   0.05787613 0.15349604 1.6496515\n",
      " 4.633303   4.105718   5.030265   3.113788   0.05355439 0.34076115\n",
      " 2.2509816  5.770562   3.7597454  3.5395327  2.7153192  0.03148469\n",
      " 0.22108981 1.8660498  3.8944025  3.0306997  4.3384824  1.4494731\n",
      " 0.14381202 0.31159383 3.1707666  2.396067   3.3490524  3.4311388\n",
      " 1.2637639  0.23619448 4.0588193  0.8432996  2.804359   3.197901\n",
      " 3.0828297  0.4685945  0.11600085 6.8483624  0.         3.8048346\n",
      " 2.5130029  4.211054   0.47143137 0.1020326  7.016394   0.6679641\n",
      " 3.6065588  3.8384995  3.5807028  0.5194986  0.0904058  4.189587\n",
      " 0.6612454  1.9524806  3.6530461  4.3780017  0.48149702 0.12242276\n",
      " 3.405908   0.65702826 3.008779   2.5559523  3.755053   0.44755787\n",
      " 0.14760174 3.820825   0.14653997 2.4601145  2.8222945  3.02344\n",
      " 0.57087994 0.29987788 2.7495883  1.061457   1.972394   3.0380244\n",
      " 1.997978   1.0241734 ]\n",
      "98\n"
     ]
    }
   ],
   "source": [
    "def run_resnet_one_mat(material_id, CNN_model, input_band_image_type, data_directory=DATA_DIRECTORY):\n",
    "        image_filename = data_directory/f\"{material_id}.png\"\n",
    "        \n",
    "        # Use the dataloaders to preprocess the input image\n",
    "        dl = CNN_model.dls.test_dl([image_filename])\n",
    "        # Forward pass through the encoder\n",
    "        with torch.no_grad():\n",
    "            encoded_representation = CNN_model.model.encoder(dl.one_batch()[0])\n",
    "        #out = trained_model.encoder(DATA_DIRECTORY/f\"images/grayscale_4ev_linewidth3/2dm-4.png\")\n",
    "\n",
    "        \n",
    "        # flatten encoded 2d array representation of the band structure as the fingerprint\n",
    "        return encoded_representation.flatten().detach().numpy()\n",
    "\n",
    "# resnet_input_file_type = \"grayscale_4ev_linewidth3\"\n",
    "# change path to the location of the desired trained model\n",
    "model_name = \"resnet18\"\n",
    "model_path = f\"../autoencoder/models/mp_models/{model_name}.pkl\"\n",
    "resnet_model = load_learner(model_path)\n",
    "\n",
    "fingerprint = run_resnet_one_mat(\"mp-88\", resnet_model, \"\")\n",
    "print(fingerprint)\n",
    "print(len(fingerprint))"
   ]
  },
  {
   "cell_type": "markdown",
   "id": "8643f486-e857-4c79-97bd-35ae7b7d2602",
   "metadata": {
    "tags": []
   },
   "source": [
    "## View All Fingerprint Functions"
   ]
  },
  {
   "cell_type": "code",
   "execution_count": 7,
   "id": "dc03c6f7-0657-4867-a3d1-2b9a70000636",
   "metadata": {
    "tags": []
   },
   "outputs": [
    {
     "data": {
      "image/png": "[encoded data removed]",
      "text/plain": [
       "<Figure size 432x288 with 1 Axes>"
      ]
     },
     "metadata": {
      "needs_background": "light"
     },
     "output_type": "display_data"
    }
   ],
   "source": [
    "fingerprint_functions = {\n",
    "    \"224_2channel_resnet_L={0}\".format(FINGERPRINT_LENGTH): lambda x: run_resnet_one_mat(x, resnet_model, \"\", data_directory=DATA_DIRECTORY),    \n",
    "}\n",
    "\n",
    "\n",
    "for fingerprint_name in fingerprint_functions: \n",
    "    fp = fingerprint_functions[fingerprint_name](\"mp-8\")\n",
    "    plt.plot(fp)\n",
    "    plt.title(fingerprint_name)\n",
    "    plt.show()\n",
    "    "
   ]
  },
  {
   "cell_type": "code",
   "execution_count": 8,
   "id": "a16ea3b7-486c-4a58-aec0-747c75cc4c94",
   "metadata": {
    "tags": []
   },
   "outputs": [],
   "source": [
    "fingerprint_array = np.zeros([len(df_material), FINGERPRINT_LENGTH])"
   ]
  },
  {
   "cell_type": "code",
   "execution_count": null,
   "id": "43963cd5-6031-4e5f-b221-3b3c18639c4a",
   "metadata": {
    "tags": []
   },
   "outputs": [
    {
     "name": "stdout",
     "output_type": "stream",
     "text": [
      "0 / 33251\n"
     ]
    }
   ],
   "source": [
    "for i, material_id in enumerate(df_material.index):\n",
    "    if i % 100 == 0:\n",
    "        print(i, \"/\", len(df_material))\n",
    "\n",
    "    fingerprint_array[i, :] = fingerprint_functions[FINGERPRINT_NAME](material_id)\n",
    "\n",
    "print(fingerprint_array)"
   ]
  },
  {
   "cell_type": "code",
   "execution_count": null,
   "id": "9f767343-a44e-4374-bdfc-6850e31df18a",
   "metadata": {
    "tags": []
   },
   "outputs": [],
   "source": [
    "#check for NaNs \n",
    "np.isnan(fingerprint_array).sum()\n",
    "print(len(fingerprint_array))"
   ]
  },
  {
   "cell_type": "markdown",
   "id": "ec1bca9b-6c55-4012-8ee8-ca7398c2db9b",
   "metadata": {
    "tags": []
   },
   "source": [
    "# Create T-SNE Reduced Dimension Fingerprints"
   ]
  },
  {
   "cell_type": "code",
   "execution_count": null,
   "id": "7fe8854c-c3cf-443a-94ad-41d9c59c07de",
   "metadata": {
    "tags": []
   },
   "outputs": [],
   "source": [
    "tsne = manifold.TSNE(n_components=2, early_exaggeration=100.0, init=\"pca\",learning_rate=100, random_state=0, perplexity=PERPLEXITY ,n_iter=10000, verbose=2)\n",
    "fingerprint_2d = tsne.fit_transform(fingerprint_array)"
   ]
  },
  {
   "cell_type": "markdown",
   "id": "90cbcb1c-2485-4b9a-bb82-11f70c9ca51e",
   "metadata": {
    "tags": []
   },
   "source": [
    "# Quick cluster (not saved) and plots to check fingerprint and T-SNE worked"
   ]
  },
  {
   "cell_type": "code",
   "execution_count": null,
   "id": "7926919e-bc65-4e17-b1be-67852d033100",
   "metadata": {
    "tags": []
   },
   "outputs": [],
   "source": [
    "clusterer = hdbscan.HDBSCAN(algorithm='best', alpha=1.0, approx_min_span_tree=True,\\\n",
    "                        gen_min_span_tree=False, leaf_size=40, metric='manhattan', cluster_selection_method='leaf', min_cluster_size=4, min_samples=2, p=0.2)\n",
    "clusterer.fit(fingerprint_array)\n",
    "labels = clusterer.labels_"
   ]
  },
  {
   "cell_type": "code",
   "execution_count": null,
   "id": "0e4da6a5-32a1-4beb-be78-13a30d8871e6",
   "metadata": {
    "tags": []
   },
   "outputs": [],
   "source": [
    "fig, ax  = plt.subplots(figsize=(8,8))\n",
    "size=np.ones((len(labels),1))*5\n",
    "size[labels==-1]=0.2\n",
    "\n",
    "ax.scatter(fingerprint_2d[:,0], fingerprint_2d[:,1],s=size, c=labels*5, cmap=\"turbo\")\n",
    "plt.title(\"fingerprint_length={0}\".format(FINGERPRINT_LENGTH))"
   ]
  },
  {
   "cell_type": "code",
   "execution_count": null,
   "id": "d83c90d0-d245-4ded-91e6-9522017dca4c",
   "metadata": {},
   "outputs": [],
   "source": []
  },
  {
   "cell_type": "markdown",
   "id": "5905704e-e2c6-4abc-9e50-33f1b990f16f",
   "metadata": {
    "tags": []
   },
   "source": [
    "# Add fingerprints, T-SNE to dataframe"
   ]
  },
  {
   "cell_type": "code",
   "execution_count": null,
   "id": "1c076682-eb36-4392-96ec-eb0f50664a54",
   "metadata": {
    "tags": []
   },
   "outputs": [],
   "source": [
    "df = df_material.join(pd.DataFrame(fingerprint_array, index=df_material.index))\n",
    "df[\"fx\"] = fingerprint_2d[:, 0]\n",
    "df[\"fy\"] = fingerprint_2d[:, 1]\n",
    "df[\"labels\"] = labels\n",
    "df.head()"
   ]
  },
  {
   "cell_type": "code",
   "execution_count": null,
   "id": "16f03c59",
   "metadata": {
    "tags": []
   },
   "outputs": [],
   "source": [
    "df.to_csv(f\"../fingerprints/materials_project/df_{model_name}.csv\")"
   ]
  },
  {
   "cell_type": "code",
   "execution_count": null,
   "id": "74411a36-3757-4eb1-8ce1-aeab4435a64d",
   "metadata": {},
   "outputs": [],
   "source": []
  }
 ],
 "metadata": {
  "kernelspec": {
   "display_name": "Python 3 (ipykernel)",
   "language": "python",
   "name": "python3"
  },
  "language_info": {
   "codemirror_mode": {
    "name": "ipython",
    "version": 3
   },
   "file_extension": ".py",
   "mimetype": "text/x-python",
   "name": "python",
   "nbconvert_exporter": "python",
   "pygments_lexer": "ipython3",
   "version": "3.9.13"
  }
 },
 "nbformat": 4,
 "nbformat_minor": 5
}
