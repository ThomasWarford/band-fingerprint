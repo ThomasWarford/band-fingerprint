{
 "cells": [
  {
   "cell_type": "code",
   "execution_count": 1,
   "id": "83d8670f-8576-4813-99cc-63ec28572db6",
   "metadata": {},
   "outputs": [],
   "source": [
    "import numpy as np\n",
    "import json\n",
    "import os\n",
    "import matplotlib.pyplot as plt\n",
    "from ipywidgets import interact\n",
    "\n",
    "import sys\n",
    "# import band plotter\n",
    "sys.path.append('..')\n",
    "from src.band_plotters import plot, DATA_DIRECTORY\n"
   ]
  },
  {
   "cell_type": "code",
   "execution_count": 2,
   "id": "81725cce-da84-4c1e-b59b-00daa8c0dee1",
   "metadata": {},
   "outputs": [
    {
     "data": {
      "application/vnd.jupyter.widget-view+json": {
       "model_id": "cea655a4403a4edaa32f855a88eb6731",
       "version_major": 2,
       "version_minor": 0
      },
      "text/plain": [
       "interactive(children=(IntSlider(value=90, description='x', max=270, min=-90), Output()), _dom_classes=('widget…"
      ]
     },
     "metadata": {},
     "output_type": "display_data"
    },
    {
     "data": {
      "text/plain": [
       "<function __main__.show(x)>"
      ]
     },
     "execution_count": 2,
     "metadata": {},
     "output_type": "execute_result"
    }
   ],
   "source": [
    "def show(x):\n",
    "\n",
    "    example = DATA_DIRECTORY/f\"bands/2dm-{x}.json\"\n",
    "    bands_dict=json.load(open(example))\n",
    "    bands = np.array(bands_dict[\"bands\"][\"1\"])\n",
    "    plt.imshow(bands)\n",
    "\n",
    "interact(show, x=90)"
   ]
  },
  {
   "cell_type": "code",
   "execution_count": null,
   "id": "1c84b11f-cf2a-4e95-a95e-0ec99fd4f388",
   "metadata": {},
   "outputs": [],
   "source": []
  }
 ],
 "metadata": {
  "kernelspec": {
   "display_name": "Python 3 (ipykernel)",
   "language": "python",
   "name": "python3"
  },
  "language_info": {
   "codemirror_mode": {
    "name": "ipython",
    "version": 3
   },
   "file_extension": ".py",
   "mimetype": "text/x-python",
   "name": "python",
   "nbconvert_exporter": "python",
   "pygments_lexer": "ipython3",
   "version": "3.12.0"
  }
 },
 "nbformat": 4,
 "nbformat_minor": 5
}
