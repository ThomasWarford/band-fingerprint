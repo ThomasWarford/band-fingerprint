{
 "cells": [
  {
   "cell_type": "code",
   "execution_count": 1,
   "id": "83d8670f-8576-4813-99cc-63ec28572db6",
   "metadata": {},
   "outputs": [],
   "source": [
    "import numpy as np\n",
    "import json\n",
    "import os\n",
    "import matplotlib.pyplot as plt\n",
    "from ipywidgets import interact\n",
    "\n",
    "import sys\n",
    "# import band plotter\n",
    "sys.path.append('..')\n",
    "from src.band_plotters import plot, DATA_DIRECTORY\n"
   ]
  },
  {
   "cell_type": "code",
   "execution_count": 2,
   "id": "81725cce-da84-4c1e-b59b-00daa8c0dee1",
   "metadata": {},
   "outputs": [
    {
     "data": {
      "application/vnd.jupyter.widget-view+json": {
       "model_id": "9fd5bb954d484a29bc7ff1450982a076",
       "version_major": 2,
       "version_minor": 0
      },
      "text/plain": [
       "interactive(children=(IntSlider(value=90, description='x', max=270, min=-90), Output()), _dom_classes=('widget…"
      ]
     },
     "metadata": {},
     "output_type": "display_data"
    },
    {
     "data": {
      "text/plain": [
       "<function __main__.show(x)>"
      ]
     },
     "execution_count": 2,
     "metadata": {},
     "output_type": "execute_result"
    }
   ],
   "source": [
    "def show(x):\n",
    "\n",
    "    example = DATA_DIRECTORY/f\"bands/2dm-{x}.json\"\n",
    "    bands_dict=json.load(open(example))\n",
    "    bands = np.array(bands_dict[\"bands\"][\"1\"])\n",
    "    plt.imshow(bands)\n",
    "\n",
    "interact(show, x=90)"
   ]
  },
  {
   "cell_type": "code",
   "execution_count": 12,
   "id": "1c84b11f-cf2a-4e95-a95e-0ec99fd4f388",
   "metadata": {},
   "outputs": [
    {
     "name": "stdout",
     "output_type": "stream",
     "text": [
      "[False False False  True  True  True  True  True  True  True  True  True\n",
      "  True  True  True  True  True  True  True  True False False False False\n",
      " False False False False False False False False]\n"
     ]
    },
    {
     "data": {
      "text/plain": [
       "<matplotlib.image.AxesImage at 0x7f44f088bec0>"
      ]
     },
     "execution_count": 12,
     "metadata": {},
     "output_type": "execute_result"
    },
    {
     "data": {
      "image/png": "[encoded data removed]",
      "text/plain": [
       "<Figure size 640x480 with 1 Axes>"
      ]
     },
     "metadata": {},
     "output_type": "display_data"
    }
   ],
   "source": [
    "x=1\n",
    "example = DATA_DIRECTORY/f\"bands/2dm-{x}.json\"\n",
    "bands_dict=json.load(open(example))\n",
    "bands = np.array(bands_dict[\"bands\"][\"1\"]) - bands_dict[\"efermi\"]\n",
    "distance_from_efermi = np.abs(bands)\n",
    "mask = (distance_from_efermi < 8).any(axis=1)\n",
    "print(mask)\n",
    "plt.imshow(bands)\n"
   ]
  },
  {
   "cell_type": "code",
   "execution_count": 13,
   "id": "293b6b2f-61d3-4f97-a8c5-f33b93e909d1",
   "metadata": {},
   "outputs": [],
   "source": [
    "def get_bands_that_come_near_fermi_level(bands, threshold=8):\n",
    "    '''\n",
    "    bands - band energies with efermi subtracted\n",
    "    threshold - distance that bands must approach (at any point!) to be included\n",
    "    '''\n",
    "    distance_from_efermi = np.abs(bands)\n",
    "    mask = (distance_from_efermi < 8).any(axis=1)\n",
    "    return bands[mask]"
   ]
  },
  {
   "cell_type": "code",
   "execution_count": 17,
   "id": "447089bb-93ff-462a-ad1a-aa52422b762c",
   "metadata": {},
   "outputs": [
    {
     "data": {
      "application/vnd.jupyter.widget-view+json": {
       "model_id": "a5142052f323403d896580bd72c36142",
       "version_major": 2,
       "version_minor": 0
      },
      "text/plain": [
       "interactive(children=(IntSlider(value=90, description='x', max=270, min=-90), Output()), _dom_classes=('widget…"
      ]
     },
     "metadata": {},
     "output_type": "display_data"
    },
    {
     "data": {
      "text/plain": [
       "<function __main__.show(x)>"
      ]
     },
     "execution_count": 17,
     "metadata": {},
     "output_type": "execute_result"
    }
   ],
   "source": [
    "def show(x):\n",
    "\n",
    "    example = DATA_DIRECTORY/f\"bands/2dm-{x}.json\"\n",
    "    bands_dict=json.load(open(example))\n",
    "    bands = np.array(bands_dict[\"bands\"][\"1\"]) - bands_dict[\"efermi\"]\n",
    "    plt.imshow(bands)\n",
    "    plt.show()\n",
    "    bands = get_bands_that_come_near_fermi_level(bands)\n",
    "    plt.imshow(bands)\n",
    "\n",
    "interact(show, x=90)"
   ]
  },
  {
   "cell_type": "code",
   "execution_count": null,
   "id": "439412f5-f4a2-4d71-85f7-8ab4844f9084",
   "metadata": {},
   "outputs": [],
   "source": []
  }
 ],
 "metadata": {
  "kernelspec": {
   "display_name": "Python 3 (ipykernel)",
   "language": "python",
   "name": "python3"
  },
  "language_info": {
   "codemirror_mode": {
    "name": "ipython",
    "version": 3
   },
   "file_extension": ".py",
   "mimetype": "text/x-python",
   "name": "python",
   "nbconvert_exporter": "python",
   "pygments_lexer": "ipython3",
   "version": "3.12.0"
  }
 },
 "nbformat": 4,
 "nbformat_minor": 5
}
